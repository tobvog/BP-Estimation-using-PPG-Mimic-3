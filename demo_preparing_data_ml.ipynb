{
 "cells": [
  {
   "cell_type": "markdown",
   "id": "b57c9f13",
   "metadata": {},
   "source": [
    "# Demo for preparing data for the classical machine learning"
   ]
  },
  {
   "cell_type": "markdown",
   "id": "5adeedfc",
   "metadata": {},
   "source": [
    "### Imports"
   ]
  },
  {
   "cell_type": "code",
   "execution_count": 8,
   "id": "72117689",
   "metadata": {},
   "outputs": [],
   "source": [
    "import numpy as np\n",
    "import os\n",
    "from ML_Preparing import ML_Preparing"
   ]
  },
  {
   "cell_type": "markdown",
   "id": "97683c4e",
   "metadata": {},
   "source": [
    "### Initialize paths"
   ]
  },
  {
   "cell_type": "code",
   "execution_count": 2,
   "id": "eee87cfb",
   "metadata": {},
   "outputs": [],
   "source": [
    "# Main path of the data\n",
    "path_main = \"C:/Users/vogel/Desktop/Study/Master BMIT/1.Semester/Programmierprojekt/\"\n",
    "# Target path\n",
    "target_path = \"C:/Users/vogel/Desktop/Study/Master BMIT/1.Semester/Programmierprojekt/feat/\"\n",
    "# Addable path elements\n",
    "add_cyc = \"cycled_data/\"  \n",
    "add_time = \"preprocessed_data/\"\n",
    "# Necessary subset of subject ids\n",
    "ids = os.listdir(path_main+add_time)  \n",
    "ids = ids[:13]"
   ]
  },
  {
   "cell_type": "markdown",
   "id": "bbc251b2",
   "metadata": {},
   "source": [
    "### Extract data"
   ]
  },
  {
   "cell_type": "code",
   "execution_count": 7,
   "id": "e84a217c",
   "metadata": {},
   "outputs": [
    {
     "name": "stdout",
     "output_type": "stream",
     "text": [
      "Loading File Number: 1\n",
      "Feature shape:      (145, 28)\n",
      "Ground Truth shape: (145, 2)\n",
      "|-------------------------------|\n",
      "Loading File Number: 2\n",
      "Feature shape:      (866, 28)\n",
      "Ground Truth shape: (866, 2)\n",
      "|-------------------------------|\n",
      "Loading File Number: 3\n",
      "Feature shape:      (32, 28)\n",
      "Ground Truth shape: (32, 2)\n",
      "|-------------------------------|\n",
      "Loading File Number: 4\n",
      "Feature shape:      (3435, 28)\n",
      "Ground Truth shape: (3435, 2)\n",
      "|-------------------------------|\n",
      "Loading File Number: 5\n",
      "Feature shape:      (933, 28)\n",
      "Ground Truth shape: (933, 2)\n",
      "|-------------------------------|\n",
      "Loading File Number: 6\n",
      "Feature shape:      (468, 28)\n",
      "Ground Truth shape: (468, 2)\n",
      "|-------------------------------|\n",
      "Loading File Number: 7\n",
      "Feature shape:      (17, 28)\n",
      "Ground Truth shape: (17, 2)\n",
      "|-------------------------------|\n",
      "Loading File Number: 8\n",
      "Feature shape:      (937, 28)\n",
      "Ground Truth shape: (937, 2)\n",
      "|-------------------------------|\n",
      "Loading File Number: 9\n",
      "Feature shape:      (2504, 28)\n",
      "Ground Truth shape: (2504, 2)\n",
      "|-------------------------------|\n",
      "Loading File Number: 10\n",
      "Feature shape:      (4261, 28)\n",
      "Ground Truth shape: (4261, 2)\n",
      "|-------------------------------|\n",
      "Loading File Number: 11\n",
      "Feature shape:      (1069, 28)\n",
      "Ground Truth shape: (1069, 2)\n",
      "|-------------------------------|\n",
      "Loading File Number: 12\n",
      "Feature shape:      (1, 28)\n",
      "Ground Truth shape: (1, 2)\n",
      "|-------------------------------|\n",
      "Loading File Number: 13\n",
      "Feature shape:      (142747, 28)\n",
      "Ground Truth shape: (142747, 2)\n",
      "|-------------------------------|\n",
      "Loading File Number: 14\n",
      "Feature shape:      (13, 28)\n",
      "Ground Truth shape: (13, 2)\n",
      "|-------------------------------|\n"
     ]
    }
   ],
   "source": [
    "for i in range(0, len(ids)):\n",
    "    # Load data\n",
    "    print('Loading File Number: '+str(i+1))\n",
    "    data_cyc = np.load(path_main+add_cyc+ids[i], allow_pickle=True)\n",
    "    data_time = np.load(path_main+add_time+ids[i], allow_pickle=True)\n",
    "    \n",
    "    # Initialize class for preparing data\n",
    "    ml_prep = ML_Preparing(pleth_cyc=data_cyc[0], abp_cyc=data_cyc[1], pleth=data_time[0], abp=data_time[1], idx_peak=data_cyc[3])\n",
    "    \n",
    "    # Extract feature and groundtruth\n",
    "    dev1 = ml_prep.derivation()\n",
    "    feat = ml_prep.extract_feat(dev1)\n",
    "    ml_gt = ml_prep.extract_sbp_dbp(2, 110)\n",
    "    \n",
    "    print(\"Feature shape:     \", np.shape(feat))\n",
    "    print(\"Ground Truth shape:\", np.shape(ml_gt))\n",
    "    # In order to save the data, the following should not be commented\n",
    "    '''\n",
    "    np.save(target_path+\"feature/\"+ids[i], feat)\n",
    "    np.save(target_path+\"ground_truth_ml/\"+ids[i], ml_gt)\n",
    "    '''\n",
    "    print(\"|-------------------------------|\")"
   ]
  },
  {
   "cell_type": "code",
   "execution_count": null,
   "id": "9d256c33",
   "metadata": {},
   "outputs": [],
   "source": []
  }
 ],
 "metadata": {
  "kernelspec": {
   "display_name": "Python 3 (ipykernel)",
   "language": "python",
   "name": "python3"
  },
  "language_info": {
   "codemirror_mode": {
    "name": "ipython",
    "version": 3
   },
   "file_extension": ".py",
   "mimetype": "text/x-python",
   "name": "python",
   "nbconvert_exporter": "python",
   "pygments_lexer": "ipython3",
   "version": "3.9.7"
  }
 },
 "nbformat": 4,
 "nbformat_minor": 5
}
