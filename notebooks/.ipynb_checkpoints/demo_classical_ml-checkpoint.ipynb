{
 "cells": [
  {
   "cell_type": "markdown",
   "id": "f38eadb2",
   "metadata": {},
   "source": [
    "# Demonstration of classical machine learning part"
   ]
  },
  {
   "cell_type": "markdown",
   "id": "a3a2376f",
   "metadata": {},
   "source": [
    "### Imports"
   ]
  },
  {
   "cell_type": "code",
   "execution_count": 2,
   "id": "d63c3060",
   "metadata": {},
   "outputs": [],
   "source": [
    "import numpy as np\n",
    "import os\n",
    "from sklearn.model_selection import KFold\n",
    "from imports.Classical_ML import Classical_ML"
   ]
  },
  {
   "cell_type": "markdown",
   "id": "41ec0f8c",
   "metadata": {},
   "source": [
    "### Loading subset"
   ]
  },
  {
   "cell_type": "code",
   "execution_count": 11,
   "id": "834e2a79",
   "metadata": {},
   "outputs": [],
   "source": [
    "# path of the preprocessed data\n",
    "path= \"C:/Users/vogel/Desktop/Study/Master BMIT/1.Semester/Programmierprojekt/feat_new/\"       \n",
    "# Loading subject ids   \n",
    "ids = np.array(os.listdir(path+\"ground_truth/ml/\"))\n",
    "# Ground truth\n",
    "y = np.array([np.load(path+\"ground_truth/ml/\"+subject, allow_pickle=True) for subject in ids], dtype=object)"
   ]
  },
  {
   "cell_type": "code",
   "execution_count": null,
   "id": "0542dfe7",
   "metadata": {},
   "outputs": [
    {
     "name": "stdout",
     "output_type": "stream",
     "text": [
      "Number Fold:  [1]  of  [5]\n",
      "Batch nr: 1 of 20\n",
      "building tree 1 of 13\n",
      "building tree 2 of 13\n",
      "building tree 3 of 13\n",
      "building tree 4 of 13\n",
      "building tree 5 of 13\n",
      "building tree 6 of 13\n",
      "building tree 7 of 13\n",
      "building tree 8 of 13\n"
     ]
    },
    {
     "name": "stderr",
     "output_type": "stream",
     "text": [
      "[Parallel(n_jobs=4)]: Using backend ThreadingBackend with 4 concurrent workers.\n"
     ]
    },
    {
     "name": "stdout",
     "output_type": "stream",
     "text": [
      "building tree 9 of 13\n",
      "building tree 10 of 13\n",
      "building tree 11 of 13\n",
      "building tree 12 of 13\n",
      "building tree 13 of 13\n",
      "Batch nr: 2 of 20\n"
     ]
    },
    {
     "name": "stderr",
     "output_type": "stream",
     "text": [
      "[Parallel(n_jobs=4)]: Done  13 out of  13 | elapsed:    0.2s remaining:    0.0s\n",
      "[Parallel(n_jobs=4)]: Done  13 out of  13 | elapsed:    0.2s finished\n",
      "[Parallel(n_jobs=4)]: Using backend ThreadingBackend with 4 concurrent workers.\n"
     ]
    },
    {
     "name": "stdout",
     "output_type": "stream",
     "text": [
      "building tree 1 of 13building tree 2 of 13\n",
      "building tree 3 of 13\n",
      "\n",
      "building tree 4 of 13\n",
      "building tree 5 of 13\n",
      "building tree 6 of 13\n",
      "building tree 7 of 13\n",
      "building tree 8 of 13\n",
      "building tree 9 of 13\n",
      "building tree 10 of 13\n",
      "building tree 11 of 13\n",
      "building tree 12 of 13\n",
      "building tree 13 of 13\n"
     ]
    },
    {
     "name": "stderr",
     "output_type": "stream",
     "text": [
      "[Parallel(n_jobs=4)]: Done  13 out of  13 | elapsed:    1.2s remaining:    0.0s\n",
      "[Parallel(n_jobs=4)]: Done  13 out of  13 | elapsed:    1.2s finished\n",
      "[Parallel(n_jobs=4)]: Using backend ThreadingBackend with 4 concurrent workers.\n"
     ]
    },
    {
     "name": "stdout",
     "output_type": "stream",
     "text": [
      "Batch nr: 3 of 20\n",
      "building tree 1 of 13\n",
      "building tree 2 of 13\n",
      "building tree 3 of 13\n",
      "building tree 4 of 13\n",
      "building tree 5 of 13\n",
      "building tree 6 of 13\n",
      "building tree 7 of 13\n",
      "building tree 8 of 13\n",
      "building tree 9 of 13\n",
      "building tree 10 of 13\n",
      "building tree 11 of 13\n",
      "building tree 12 of 13\n",
      "building tree 13 of 13\n"
     ]
    },
    {
     "name": "stderr",
     "output_type": "stream",
     "text": [
      "[Parallel(n_jobs=4)]: Done  13 out of  13 | elapsed:    0.3s remaining:    0.0s\n",
      "[Parallel(n_jobs=4)]: Done  13 out of  13 | elapsed:    0.3s finished\n"
     ]
    },
    {
     "name": "stdout",
     "output_type": "stream",
     "text": [
      "Batch nr: 4 of 20\n"
     ]
    },
    {
     "name": "stderr",
     "output_type": "stream",
     "text": [
      "[Parallel(n_jobs=4)]: Using backend ThreadingBackend with 4 concurrent workers.\n"
     ]
    },
    {
     "name": "stdout",
     "output_type": "stream",
     "text": [
      "building tree 1 of 13building tree 2 of 13\n",
      "\n",
      "building tree 3 of 13\n",
      "building tree 4 of 13\n",
      "building tree 5 of 13\n",
      "building tree 6 of 13\n",
      "building tree 7 of 13\n",
      "building tree 8 of 13\n",
      "building tree 9 of 13\n",
      "building tree 10 of 13\n",
      "building tree 11 of 13\n",
      "building tree 12 of 13\n",
      "building tree 13 of 13\n"
     ]
    },
    {
     "name": "stderr",
     "output_type": "stream",
     "text": [
      "[Parallel(n_jobs=4)]: Done  13 out of  13 | elapsed:    0.7s remaining:    0.0s\n",
      "[Parallel(n_jobs=4)]: Done  13 out of  13 | elapsed:    0.8s finished\n"
     ]
    },
    {
     "name": "stdout",
     "output_type": "stream",
     "text": [
      "Batch nr: 5 of 20\n"
     ]
    },
    {
     "name": "stderr",
     "output_type": "stream",
     "text": [
      "[Parallel(n_jobs=4)]: Using backend ThreadingBackend with 4 concurrent workers.\n"
     ]
    },
    {
     "name": "stdout",
     "output_type": "stream",
     "text": [
      "building tree 1 of 13building tree 2 of 13\n",
      "\n",
      "building tree 3 of 13\n",
      "building tree 4 of 13\n",
      "building tree 5 of 13\n",
      "building tree 6 of 13\n",
      "building tree 7 of 13\n",
      "building tree 8 of 13\n",
      "building tree 9 of 13\n",
      "building tree 10 of 13\n",
      "building tree 11 of 13\n",
      "building tree 12 of 13\n",
      "building tree 13 of 13\n"
     ]
    },
    {
     "name": "stderr",
     "output_type": "stream",
     "text": [
      "[Parallel(n_jobs=4)]: Done  13 out of  13 | elapsed:    0.7s remaining:    0.0s\n",
      "[Parallel(n_jobs=4)]: Done  13 out of  13 | elapsed:    0.7s finished\n"
     ]
    },
    {
     "name": "stdout",
     "output_type": "stream",
     "text": [
      "Batch nr: 6 of 20\n"
     ]
    },
    {
     "name": "stderr",
     "output_type": "stream",
     "text": [
      "[Parallel(n_jobs=4)]: Using backend ThreadingBackend with 4 concurrent workers.\n"
     ]
    },
    {
     "name": "stdout",
     "output_type": "stream",
     "text": [
      "building tree 1 of 13building tree 2 of 13\n",
      "building tree 3 of 13\n",
      "building tree 4 of 13\n",
      "\n",
      "building tree 5 of 13\n",
      "building tree 6 of 13\n",
      "building tree 7 of 13\n",
      "building tree 8 of 13\n",
      "building tree 9 of 13\n",
      "building tree 10 of 13\n",
      "building tree 11 of 13\n",
      "building tree 12 of 13\n",
      "building tree 13 of 13\n"
     ]
    },
    {
     "name": "stderr",
     "output_type": "stream",
     "text": [
      "[Parallel(n_jobs=4)]: Done  13 out of  13 | elapsed:    1.3s remaining:    0.0s\n",
      "[Parallel(n_jobs=4)]: Done  13 out of  13 | elapsed:    1.3s finished\n"
     ]
    },
    {
     "name": "stdout",
     "output_type": "stream",
     "text": [
      "Batch nr: 7 of 20\n"
     ]
    },
    {
     "name": "stderr",
     "output_type": "stream",
     "text": [
      "[Parallel(n_jobs=4)]: Using backend ThreadingBackend with 4 concurrent workers.\n"
     ]
    },
    {
     "name": "stdout",
     "output_type": "stream",
     "text": [
      "building tree 1 of 13building tree 2 of 13\n",
      "building tree 3 of 13\n",
      "\n",
      "building tree 4 of 13\n",
      "building tree 5 of 13\n",
      "building tree 6 of 13\n",
      "building tree 7 of 13\n",
      "building tree 8 of 13\n",
      "building tree 9 of 13\n",
      "building tree 10 of 13\n",
      "building tree 11 of 13\n",
      "building tree 12 of 13\n",
      "building tree 13 of 13\n"
     ]
    },
    {
     "name": "stderr",
     "output_type": "stream",
     "text": [
      "[Parallel(n_jobs=4)]: Done  13 out of  13 | elapsed:    2.2s remaining:    0.0s\n",
      "[Parallel(n_jobs=4)]: Done  13 out of  13 | elapsed:    2.3s finished\n",
      "[Parallel(n_jobs=4)]: Using backend ThreadingBackend with 4 concurrent workers.\n",
      "[Parallel(n_jobs=4)]: Done  13 out of  13 | elapsed:    0.0s remaining:    0.0s\n",
      "[Parallel(n_jobs=4)]: Done  13 out of  13 | elapsed:    0.0s finished\n"
     ]
    },
    {
     "name": "stdout",
     "output_type": "stream",
     "text": [
      "Batch nr: 8 of 20\n",
      "building tree 1 of 13\n",
      "building tree 2 of 13\n",
      "building tree 3 of 13\n",
      "building tree 4 of 13\n",
      "building tree 5 of 13\n",
      "building tree 6 of 13\n",
      "building tree 7 of 13\n",
      "building tree 8 of 13\n",
      "building tree 9 of 13\n",
      "building tree 10 of 13\n",
      "building tree 11 of 13\n",
      "building tree 12 of 13\n",
      "building tree 13 of 13\n",
      "Batch nr: 9 of 20\n"
     ]
    },
    {
     "name": "stderr",
     "output_type": "stream",
     "text": [
      "[Parallel(n_jobs=4)]: Using backend ThreadingBackend with 4 concurrent workers.\n"
     ]
    },
    {
     "name": "stdout",
     "output_type": "stream",
     "text": [
      "building tree 1 of 13building tree 2 of 13\n",
      "\n",
      "building tree 3 of 13\n",
      "building tree 4 of 13\n",
      "building tree 5 of 13\n",
      "building tree 6 of 13\n",
      "building tree 7 of 13\n",
      "building tree 8 of 13\n",
      "building tree 9 of 13\n",
      "building tree 10 of 13\n",
      "building tree 11 of 13\n",
      "building tree 12 of 13\n",
      "building tree 13 of 13\n"
     ]
    },
    {
     "name": "stderr",
     "output_type": "stream",
     "text": [
      "[Parallel(n_jobs=4)]: Done  13 out of  13 | elapsed:    1.1s remaining:    0.0s\n",
      "[Parallel(n_jobs=4)]: Done  13 out of  13 | elapsed:    1.1s finished\n"
     ]
    },
    {
     "name": "stdout",
     "output_type": "stream",
     "text": [
      "Batch nr: 10 of 20\n"
     ]
    },
    {
     "name": "stderr",
     "output_type": "stream",
     "text": [
      "[Parallel(n_jobs=4)]: Using backend ThreadingBackend with 4 concurrent workers.\n"
     ]
    },
    {
     "name": "stdout",
     "output_type": "stream",
     "text": [
      "building tree 1 of 13building tree 2 of 13\n",
      "building tree 3 of 13\n",
      "building tree 4 of 13\n",
      "\n",
      "building tree 5 of 13\n",
      "building tree 6 of 13\n",
      "building tree 7 of 13\n",
      "building tree 8 of 13\n",
      "building tree 9 of 13building tree 10 of 13\n",
      "\n",
      "building tree 11 of 13\n",
      "building tree 12 of 13\n",
      "building tree 13 of 13\n"
     ]
    },
    {
     "name": "stderr",
     "output_type": "stream",
     "text": [
      "[Parallel(n_jobs=4)]: Done  13 out of  13 | elapsed:    0.9s remaining:    0.0s\n",
      "[Parallel(n_jobs=4)]: Done  13 out of  13 | elapsed:    0.9s finished\n"
     ]
    },
    {
     "name": "stdout",
     "output_type": "stream",
     "text": [
      "Batch nr: 11 of 20\n"
     ]
    },
    {
     "name": "stderr",
     "output_type": "stream",
     "text": [
      "[Parallel(n_jobs=4)]: Using backend ThreadingBackend with 4 concurrent workers.\n"
     ]
    },
    {
     "name": "stdout",
     "output_type": "stream",
     "text": [
      "building tree 1 of 13building tree 2 of 13\n",
      "\n",
      "building tree 3 of 13\n",
      "building tree 4 of 13\n",
      "building tree 5 of 13\n",
      "building tree 6 of 13\n",
      "building tree 7 of 13\n",
      "building tree 8 of 13\n",
      "building tree 9 of 13\n",
      "building tree 10 of 13\n",
      "building tree 11 of 13\n",
      "building tree 12 of 13\n",
      "building tree 13 of 13\n"
     ]
    },
    {
     "name": "stderr",
     "output_type": "stream",
     "text": [
      "[Parallel(n_jobs=4)]: Done  13 out of  13 | elapsed:    2.2s remaining:    0.0s\n",
      "[Parallel(n_jobs=4)]: Done  13 out of  13 | elapsed:    2.2s finished\n",
      "[Parallel(n_jobs=4)]: Using backend ThreadingBackend with 4 concurrent workers.\n"
     ]
    },
    {
     "name": "stdout",
     "output_type": "stream",
     "text": [
      "Batch nr: 12 of 20\n",
      "building tree 1 of 13\n",
      "building tree 2 of 13\n",
      "building tree 3 of 13\n",
      "building tree 4 of 13\n",
      "building tree 5 of 13building tree 6 of 13\n",
      "\n",
      "building tree 7 of 13\n",
      "building tree 8 of 13\n",
      "building tree 9 of 13\n",
      "building tree 10 of 13\n",
      "building tree 11 of 13\n",
      "building tree 12 of 13\n",
      "building tree 13 of 13\n",
      "Batch nr: 13 of 20\n"
     ]
    },
    {
     "name": "stderr",
     "output_type": "stream",
     "text": [
      "[Parallel(n_jobs=4)]: Done  13 out of  13 | elapsed:    0.2s remaining:    0.0s\n",
      "[Parallel(n_jobs=4)]: Done  13 out of  13 | elapsed:    0.2s finished\n",
      "[Parallel(n_jobs=4)]: Using backend ThreadingBackend with 4 concurrent workers.\n"
     ]
    },
    {
     "name": "stdout",
     "output_type": "stream",
     "text": [
      "building tree 1 of 13building tree 2 of 13\n",
      "\n",
      "building tree 3 of 13\n",
      "building tree 4 of 13\n",
      "building tree 5 of 13\n",
      "building tree 6 of 13\n",
      "building tree 7 of 13\n",
      "building tree 8 of 13\n",
      "building tree 9 of 13\n",
      "building tree 10 of 13\n",
      "building tree 11 of 13\n",
      "building tree 12 of 13\n",
      "building tree 13 of 13\n",
      "Batch nr: 14 of 20\n"
     ]
    },
    {
     "name": "stderr",
     "output_type": "stream",
     "text": [
      "[Parallel(n_jobs=4)]: Done  13 out of  13 | elapsed:    0.1s remaining:    0.0s\n",
      "[Parallel(n_jobs=4)]: Done  13 out of  13 | elapsed:    0.1s finished\n",
      "[Parallel(n_jobs=4)]: Using backend ThreadingBackend with 4 concurrent workers.\n"
     ]
    },
    {
     "name": "stdout",
     "output_type": "stream",
     "text": [
      "building tree 1 of 13\n",
      "building tree 2 of 13\n",
      "building tree 3 of 13\n",
      "building tree 4 of 13\n",
      "building tree 5 of 13\n",
      "building tree 6 of 13\n",
      "building tree 7 of 13\n",
      "building tree 8 of 13\n",
      "building tree 9 of 13\n",
      "building tree 10 of 13\n",
      "building tree 11 of 13\n",
      "building tree 12 of 13\n",
      "building tree 13 of 13\n"
     ]
    },
    {
     "name": "stderr",
     "output_type": "stream",
     "text": [
      "[Parallel(n_jobs=4)]: Done  13 out of  13 | elapsed:    1.4s remaining:    0.0s\n",
      "[Parallel(n_jobs=4)]: Done  13 out of  13 | elapsed:    1.5s finished\n",
      "[Parallel(n_jobs=4)]: Using backend ThreadingBackend with 4 concurrent workers.\n"
     ]
    },
    {
     "name": "stdout",
     "output_type": "stream",
     "text": [
      "Batch nr: 15 of 20\n",
      "building tree 1 of 13\n",
      "building tree 2 of 13\n",
      "building tree 3 of 13\n",
      "building tree 4 of 13\n",
      "building tree 5 of 13\n",
      "building tree 6 of 13\n",
      "building tree 7 of 13\n",
      "building tree 8 of 13\n",
      "building tree 9 of 13\n",
      "building tree 10 of 13\n",
      "building tree 11 of 13\n",
      "building tree 12 of 13\n",
      "building tree 13 of 13\n"
     ]
    },
    {
     "name": "stderr",
     "output_type": "stream",
     "text": [
      "[Parallel(n_jobs=4)]: Done  13 out of  13 | elapsed:    0.0s remaining:    0.0s\n",
      "[Parallel(n_jobs=4)]: Done  13 out of  13 | elapsed:    0.0s finished\n"
     ]
    },
    {
     "name": "stdout",
     "output_type": "stream",
     "text": [
      "Batch nr: 16 of 20\n"
     ]
    },
    {
     "name": "stderr",
     "output_type": "stream",
     "text": [
      "[Parallel(n_jobs=4)]: Using backend ThreadingBackend with 4 concurrent workers.\n"
     ]
    },
    {
     "name": "stdout",
     "output_type": "stream",
     "text": [
      "building tree 1 of 13building tree 2 of 13\n",
      "\n",
      "building tree 3 of 13\n",
      "building tree 4 of 13\n",
      "building tree 5 of 13\n",
      "building tree 6 of 13\n",
      "building tree 7 of 13\n",
      "building tree 8 of 13\n",
      "building tree 9 of 13\n",
      "building tree 10 of 13\n",
      "building tree 11 of 13\n",
      "building tree 12 of 13\n",
      "building tree 13 of 13\n"
     ]
    },
    {
     "name": "stderr",
     "output_type": "stream",
     "text": [
      "[Parallel(n_jobs=4)]: Done  13 out of  13 | elapsed:    1.1s remaining:    0.0s\n",
      "[Parallel(n_jobs=4)]: Done  13 out of  13 | elapsed:    1.1s finished\n",
      "[Parallel(n_jobs=4)]: Using backend ThreadingBackend with 4 concurrent workers.\n",
      "[Parallel(n_jobs=4)]: Done  33 tasks      | elapsed:    0.1s\n",
      "[Parallel(n_jobs=4)]: Done 154 tasks      | elapsed:    0.7s\n",
      "[Parallel(n_jobs=4)]: Done 208 out of 208 | elapsed:    0.9s finished\n",
      "[Parallel(n_jobs=4)]: Using backend ThreadingBackend with 4 concurrent workers.\n"
     ]
    },
    {
     "name": "stdout",
     "output_type": "stream",
     "text": [
      "Batch nr: 1 of 20\n",
      "building tree 1 of 13\n",
      "building tree 2 of 13\n",
      "building tree 3 of 13\n",
      "building tree 4 of 13\n",
      "building tree 5 of 13\n",
      "building tree 6 of 13\n",
      "building tree 7 of 13\n",
      "building tree 8 of 13\n",
      "building tree 9 of 13\n",
      "building tree 10 of 13\n",
      "building tree 11 of 13\n",
      "building tree 12 of 13\n",
      "building tree 13 of 13\n",
      "Batch nr: 2 of 20\n"
     ]
    },
    {
     "name": "stderr",
     "output_type": "stream",
     "text": [
      "[Parallel(n_jobs=4)]: Done  13 out of  13 | elapsed:    0.2s remaining:    0.0s\n",
      "[Parallel(n_jobs=4)]: Done  13 out of  13 | elapsed:    0.2s finished\n",
      "[Parallel(n_jobs=4)]: Using backend ThreadingBackend with 4 concurrent workers.\n"
     ]
    },
    {
     "name": "stdout",
     "output_type": "stream",
     "text": [
      "building tree 1 of 13building tree 2 of 13\n",
      "\n",
      "building tree 3 of 13\n",
      "building tree 4 of 13\n",
      "building tree 5 of 13\n",
      "building tree 6 of 13\n",
      "building tree 7 of 13\n",
      "building tree 8 of 13\n",
      "building tree 9 of 13\n",
      "building tree 10 of 13\n",
      "building tree 11 of 13\n",
      "building tree 12 of 13\n",
      "building tree 13 of 13\n"
     ]
    },
    {
     "name": "stderr",
     "output_type": "stream",
     "text": [
      "[Parallel(n_jobs=4)]: Done  13 out of  13 | elapsed:    1.1s remaining:    0.0s\n",
      "[Parallel(n_jobs=4)]: Done  13 out of  13 | elapsed:    1.1s finished\n",
      "[Parallel(n_jobs=4)]: Using backend ThreadingBackend with 4 concurrent workers.\n"
     ]
    },
    {
     "name": "stdout",
     "output_type": "stream",
     "text": [
      "Batch nr: 3 of 20\n",
      "building tree 1 of 13\n",
      "building tree 2 of 13\n",
      "building tree 3 of 13\n",
      "building tree 4 of 13\n",
      "building tree 5 of 13\n",
      "building tree 6 of 13\n",
      "building tree 7 of 13\n",
      "building tree 8 of 13\n",
      "building tree 9 of 13\n",
      "building tree 10 of 13\n",
      "building tree 11 of 13\n",
      "building tree 12 of 13\n",
      "building tree 13 of 13\n",
      "Batch nr: 4 of 20\n"
     ]
    },
    {
     "name": "stderr",
     "output_type": "stream",
     "text": [
      "[Parallel(n_jobs=4)]: Done  13 out of  13 | elapsed:    0.3s remaining:    0.0s\n",
      "[Parallel(n_jobs=4)]: Done  13 out of  13 | elapsed:    0.3s finished\n",
      "[Parallel(n_jobs=4)]: Using backend ThreadingBackend with 4 concurrent workers.\n"
     ]
    },
    {
     "name": "stdout",
     "output_type": "stream",
     "text": [
      "building tree 1 of 13\n",
      "building tree 2 of 13\n",
      "building tree 3 of 13\n",
      "building tree 4 of 13\n",
      "building tree 5 of 13\n",
      "building tree 6 of 13\n",
      "building tree 7 of 13\n",
      "building tree 8 of 13\n",
      "building tree 9 of 13\n",
      "building tree 10 of 13\n",
      "building tree 11 of 13\n",
      "building tree 12 of 13\n",
      "building tree 13 of 13\n"
     ]
    },
    {
     "name": "stderr",
     "output_type": "stream",
     "text": [
      "[Parallel(n_jobs=4)]: Done  13 out of  13 | elapsed:    0.8s remaining:    0.0s\n",
      "[Parallel(n_jobs=4)]: Done  13 out of  13 | elapsed:    0.8s finished\n"
     ]
    },
    {
     "name": "stdout",
     "output_type": "stream",
     "text": [
      "Batch nr: 5 of 20\n"
     ]
    },
    {
     "name": "stderr",
     "output_type": "stream",
     "text": [
      "[Parallel(n_jobs=4)]: Using backend ThreadingBackend with 4 concurrent workers.\n"
     ]
    },
    {
     "name": "stdout",
     "output_type": "stream",
     "text": [
      "building tree 1 of 13building tree 2 of 13\n",
      "\n",
      "building tree 3 of 13\n",
      "building tree 4 of 13\n",
      "building tree 5 of 13\n",
      "building tree 6 of 13\n",
      "building tree 7 of 13\n",
      "building tree 8 of 13\n",
      "building tree 9 of 13\n",
      "building tree 10 of 13\n",
      "building tree 11 of 13\n",
      "building tree 12 of 13\n",
      "building tree 13 of 13\n",
      "Batch nr: 6 of 20\n"
     ]
    },
    {
     "name": "stderr",
     "output_type": "stream",
     "text": [
      "[Parallel(n_jobs=4)]: Done  13 out of  13 | elapsed:    0.6s remaining:    0.0s\n",
      "[Parallel(n_jobs=4)]: Done  13 out of  13 | elapsed:    0.6s finished\n",
      "[Parallel(n_jobs=4)]: Using backend ThreadingBackend with 4 concurrent workers.\n"
     ]
    },
    {
     "name": "stdout",
     "output_type": "stream",
     "text": [
      "building tree 1 of 13building tree 2 of 13\n",
      "\n",
      "building tree 3 of 13\n",
      "building tree 4 of 13\n",
      "building tree 5 of 13\n",
      "building tree 6 of 13\n",
      "building tree 7 of 13\n",
      "building tree 8 of 13\n",
      "building tree 9 of 13\n",
      "building tree 10 of 13\n",
      "building tree 11 of 13\n",
      "building tree 12 of 13\n",
      "building tree 13 of 13\n"
     ]
    },
    {
     "name": "stderr",
     "output_type": "stream",
     "text": [
      "[Parallel(n_jobs=4)]: Done  13 out of  13 | elapsed:    1.2s remaining:    0.0s\n",
      "[Parallel(n_jobs=4)]: Done  13 out of  13 | elapsed:    1.2s finished\n"
     ]
    },
    {
     "name": "stdout",
     "output_type": "stream",
     "text": [
      "Batch nr: 7 of 20\n"
     ]
    },
    {
     "name": "stderr",
     "output_type": "stream",
     "text": [
      "[Parallel(n_jobs=4)]: Using backend ThreadingBackend with 4 concurrent workers.\n"
     ]
    },
    {
     "name": "stdout",
     "output_type": "stream",
     "text": [
      "building tree 1 of 13building tree 2 of 13\n",
      "building tree 3 of 13\n",
      "\n",
      "building tree 4 of 13\n",
      "building tree 5 of 13\n",
      "building tree 6 of 13\n",
      "building tree 7 of 13\n",
      "building tree 8 of 13\n",
      "building tree 9 of 13\n",
      "building tree 10 of 13\n",
      "building tree 11 of 13\n",
      "building tree 12 of 13\n",
      "building tree 13 of 13\n"
     ]
    },
    {
     "name": "stderr",
     "output_type": "stream",
     "text": [
      "[Parallel(n_jobs=4)]: Done  13 out of  13 | elapsed:    2.3s remaining:    0.0s\n",
      "[Parallel(n_jobs=4)]: Done  13 out of  13 | elapsed:    2.3s finished\n",
      "[Parallel(n_jobs=4)]: Using backend ThreadingBackend with 4 concurrent workers.\n",
      "[Parallel(n_jobs=4)]: Done  13 out of  13 | elapsed:    0.0s remaining:    0.0s\n",
      "[Parallel(n_jobs=4)]: Done  13 out of  13 | elapsed:    0.0s finished\n"
     ]
    },
    {
     "name": "stdout",
     "output_type": "stream",
     "text": [
      "Batch nr: 8 of 20\n",
      "building tree 1 of 13\n",
      "building tree 2 of 13\n",
      "building tree 3 of 13\n",
      "building tree 4 of 13\n",
      "building tree 5 of 13\n",
      "building tree 6 of 13\n",
      "building tree 7 of 13\n",
      "building tree 8 of 13\n",
      "building tree 9 of 13\n",
      "building tree 10 of 13\n",
      "building tree 11 of 13\n",
      "building tree 12 of 13\n",
      "building tree 13 of 13\n",
      "Batch nr: 9 of 20\n"
     ]
    },
    {
     "name": "stderr",
     "output_type": "stream",
     "text": [
      "[Parallel(n_jobs=4)]: Using backend ThreadingBackend with 4 concurrent workers.\n"
     ]
    },
    {
     "name": "stdout",
     "output_type": "stream",
     "text": [
      "building tree 1 of 13building tree 2 of 13\n",
      "\n",
      "building tree 3 of 13\n",
      "building tree 4 of 13\n",
      "building tree 5 of 13\n",
      "building tree 6 of 13\n",
      "building tree 7 of 13\n",
      "building tree 8 of 13\n",
      "building tree 9 of 13\n",
      "building tree 10 of 13\n",
      "building tree 11 of 13\n",
      "building tree 12 of 13\n",
      "building tree 13 of 13\n"
     ]
    },
    {
     "name": "stderr",
     "output_type": "stream",
     "text": [
      "[Parallel(n_jobs=4)]: Done  13 out of  13 | elapsed:    1.1s remaining:    0.0s\n",
      "[Parallel(n_jobs=4)]: Done  13 out of  13 | elapsed:    1.1s finished\n"
     ]
    },
    {
     "name": "stdout",
     "output_type": "stream",
     "text": [
      "Batch nr: 10 of 20\n"
     ]
    },
    {
     "name": "stderr",
     "output_type": "stream",
     "text": [
      "[Parallel(n_jobs=4)]: Using backend ThreadingBackend with 4 concurrent workers.\n"
     ]
    },
    {
     "name": "stdout",
     "output_type": "stream",
     "text": [
      "building tree 1 of 13building tree 2 of 13\n",
      "building tree 3 of 13\n",
      "building tree 4 of 13\n",
      "\n",
      "building tree 5 of 13\n",
      "building tree 6 of 13\n",
      "building tree 7 of 13\n",
      "building tree 8 of 13\n",
      "building tree 9 of 13\n",
      "building tree 10 of 13\n",
      "building tree 11 of 13\n",
      "building tree 12 of 13\n",
      "building tree 13 of 13\n"
     ]
    },
    {
     "name": "stderr",
     "output_type": "stream",
     "text": [
      "[Parallel(n_jobs=4)]: Done  13 out of  13 | elapsed:    0.9s remaining:    0.0s\n",
      "[Parallel(n_jobs=4)]: Done  13 out of  13 | elapsed:    0.9s finished\n"
     ]
    },
    {
     "name": "stdout",
     "output_type": "stream",
     "text": [
      "Batch nr: 11 of 20\n"
     ]
    },
    {
     "name": "stderr",
     "output_type": "stream",
     "text": [
      "[Parallel(n_jobs=4)]: Using backend ThreadingBackend with 4 concurrent workers.\n"
     ]
    },
    {
     "name": "stdout",
     "output_type": "stream",
     "text": [
      "building tree 1 of 13building tree 2 of 13\n",
      "building tree 3 of 13\n",
      "\n",
      "building tree 4 of 13\n",
      "building tree 5 of 13\n",
      "building tree 6 of 13\n",
      "building tree 7 of 13\n",
      "building tree 8 of 13\n",
      "building tree 9 of 13\n",
      "building tree 10 of 13\n",
      "building tree 11 of 13\n",
      "building tree 12 of 13\n",
      "building tree 13 of 13\n"
     ]
    },
    {
     "name": "stderr",
     "output_type": "stream",
     "text": [
      "[Parallel(n_jobs=4)]: Done  13 out of  13 | elapsed:    2.0s remaining:    0.0s\n",
      "[Parallel(n_jobs=4)]: Done  13 out of  13 | elapsed:    2.0s finished\n",
      "[Parallel(n_jobs=4)]: Using backend ThreadingBackend with 4 concurrent workers.\n"
     ]
    },
    {
     "name": "stdout",
     "output_type": "stream",
     "text": [
      "Batch nr: 12 of 20\n",
      "building tree 1 of 13\n",
      "building tree 2 of 13\n",
      "building tree 3 of 13\n",
      "building tree 4 of 13\n",
      "building tree 5 of 13\n",
      "building tree 6 of 13\n",
      "building tree 7 of 13\n",
      "building tree 8 of 13\n",
      "building tree 9 of 13building tree 10 of 13\n",
      "building tree 11 of 13\n",
      "\n",
      "building tree 12 of 13\n",
      "building tree 13 of 13\n",
      "Batch nr: 13 of 20\n",
      "building tree 1 of 13\n",
      "building tree 2 of 13\n",
      "building tree 3 of 13\n",
      "building tree 4 of 13\n"
     ]
    },
    {
     "name": "stderr",
     "output_type": "stream",
     "text": [
      "[Parallel(n_jobs=4)]: Done  13 out of  13 | elapsed:    0.1s remaining:    0.0s\n",
      "[Parallel(n_jobs=4)]: Done  13 out of  13 | elapsed:    0.1s finished\n",
      "[Parallel(n_jobs=4)]: Using backend ThreadingBackend with 4 concurrent workers.\n"
     ]
    },
    {
     "name": "stdout",
     "output_type": "stream",
     "text": [
      "building tree 5 of 13building tree 6 of 13\n",
      "\n",
      "building tree 7 of 13\n",
      "building tree 8 of 13\n",
      "building tree 9 of 13\n",
      "building tree 10 of 13\n",
      "building tree 11 of 13\n",
      "building tree 12 of 13\n",
      "building tree 13 of 13\n",
      "Batch nr: 14 of 20\n"
     ]
    },
    {
     "name": "stderr",
     "output_type": "stream",
     "text": [
      "[Parallel(n_jobs=4)]: Done  13 out of  13 | elapsed:    0.1s remaining:    0.0s\n",
      "[Parallel(n_jobs=4)]: Done  13 out of  13 | elapsed:    0.1s finished\n",
      "[Parallel(n_jobs=4)]: Using backend ThreadingBackend with 4 concurrent workers.\n"
     ]
    },
    {
     "name": "stdout",
     "output_type": "stream",
     "text": [
      "building tree 1 of 13building tree 2 of 13\n",
      "building tree 3 of 13\n",
      "\n",
      "building tree 4 of 13\n",
      "building tree 5 of 13\n",
      "building tree 6 of 13\n",
      "building tree 7 of 13\n",
      "building tree 8 of 13\n",
      "building tree 9 of 13\n",
      "building tree 10 of 13\n",
      "building tree 11 of 13\n",
      "building tree 12 of 13\n",
      "building tree 13 of 13\n"
     ]
    },
    {
     "name": "stderr",
     "output_type": "stream",
     "text": [
      "[Parallel(n_jobs=4)]: Done  13 out of  13 | elapsed:    1.4s remaining:    0.0s\n",
      "[Parallel(n_jobs=4)]: Done  13 out of  13 | elapsed:    1.4s finished\n",
      "[Parallel(n_jobs=4)]: Using backend ThreadingBackend with 4 concurrent workers.\n",
      "[Parallel(n_jobs=4)]: Done  13 out of  13 | elapsed:    0.0s remaining:    0.0s\n",
      "[Parallel(n_jobs=4)]: Done  13 out of  13 | elapsed:    0.0s finished\n"
     ]
    },
    {
     "name": "stdout",
     "output_type": "stream",
     "text": [
      "Batch nr: 15 of 20\n",
      "building tree 1 of 13\n",
      "building tree 2 of 13\n",
      "building tree 3 of 13\n",
      "building tree 4 of 13\n",
      "building tree 5 of 13\n",
      "building tree 6 of 13\n",
      "building tree 7 of 13\n",
      "building tree 8 of 13\n",
      "building tree 9 of 13\n",
      "building tree 10 of 13\n",
      "building tree 11 of 13\n",
      "building tree 12 of 13\n",
      "building tree 13 of 13\n",
      "Batch nr: 16 of 20\n"
     ]
    },
    {
     "name": "stderr",
     "output_type": "stream",
     "text": [
      "[Parallel(n_jobs=4)]: Using backend ThreadingBackend with 4 concurrent workers.\n"
     ]
    },
    {
     "name": "stdout",
     "output_type": "stream",
     "text": [
      "building tree 1 of 13building tree 2 of 13\n",
      "building tree 3 of 13\n",
      "\n",
      "building tree 4 of 13\n",
      "building tree 5 of 13\n",
      "building tree 6 of 13\n",
      "building tree 7 of 13\n",
      "building tree 8 of 13\n",
      "building tree 9 of 13\n",
      "building tree 10 of 13\n",
      "building tree 11 of 13\n",
      "building tree 12 of 13\n",
      "building tree 13 of 13\n"
     ]
    },
    {
     "name": "stderr",
     "output_type": "stream",
     "text": [
      "[Parallel(n_jobs=4)]: Done  13 out of  13 | elapsed:    1.1s remaining:    0.0s\n",
      "[Parallel(n_jobs=4)]: Done  13 out of  13 | elapsed:    1.1s finished\n",
      "[Parallel(n_jobs=4)]: Using backend ThreadingBackend with 4 concurrent workers.\n",
      "[Parallel(n_jobs=4)]: Done  33 tasks      | elapsed:    0.1s\n",
      "[Parallel(n_jobs=4)]: Done 154 tasks      | elapsed:    0.7s\n",
      "[Parallel(n_jobs=4)]: Done 208 out of 208 | elapsed:    1.0s finished\n"
     ]
    },
    {
     "name": "stdout",
     "output_type": "stream",
     "text": [
      "Number Fold:  [2]  of  [5]\n",
      "Batch nr: 1 of 20\n"
     ]
    },
    {
     "name": "stderr",
     "output_type": "stream",
     "text": [
      "[Parallel(n_jobs=4)]: Using backend ThreadingBackend with 4 concurrent workers.\n"
     ]
    },
    {
     "name": "stdout",
     "output_type": "stream",
     "text": [
      "building tree 1 of 13building tree 2 of 13\n",
      "building tree 3 of 13\n",
      "\n",
      "building tree 4 of 13\n",
      "building tree 5 of 13\n",
      "building tree 6 of 13\n",
      "building tree 7 of 13\n",
      "building tree 8 of 13\n",
      "building tree 9 of 13building tree 10 of 13\n",
      "\n",
      "building tree 11 of 13\n",
      "building tree 12 of 13\n",
      "building tree 13 of 13\n"
     ]
    },
    {
     "name": "stderr",
     "output_type": "stream",
     "text": [
      "[Parallel(n_jobs=4)]: Done  13 out of  13 | elapsed:    1.5s remaining:    0.0s\n",
      "[Parallel(n_jobs=4)]: Done  13 out of  13 | elapsed:    1.6s finished\n"
     ]
    },
    {
     "name": "stdout",
     "output_type": "stream",
     "text": [
      "Batch nr: 2 of 20\n"
     ]
    },
    {
     "name": "stderr",
     "output_type": "stream",
     "text": [
      "[Parallel(n_jobs=4)]: Using backend ThreadingBackend with 4 concurrent workers.\n"
     ]
    },
    {
     "name": "stdout",
     "output_type": "stream",
     "text": [
      "building tree 1 of 13building tree 2 of 13\n",
      "building tree 3 of 13\n",
      "\n",
      "building tree 4 of 13\n",
      "building tree 5 of 13\n",
      "building tree 6 of 13\n",
      "building tree 7 of 13\n",
      "building tree 8 of 13\n",
      "building tree 9 of 13\n",
      "building tree 10 of 13\n",
      "building tree 11 of 13\n",
      "building tree 12 of 13\n",
      "building tree 13 of 13\n"
     ]
    },
    {
     "name": "stderr",
     "output_type": "stream",
     "text": [
      "[Parallel(n_jobs=4)]: Done  13 out of  13 | elapsed:    1.4s remaining:    0.0s\n",
      "[Parallel(n_jobs=4)]: Done  13 out of  13 | elapsed:    1.4s finished\n",
      "[Parallel(n_jobs=4)]: Using backend ThreadingBackend with 4 concurrent workers.\n",
      "[Parallel(n_jobs=4)]: Done  13 out of  13 | elapsed:    0.0s remaining:    0.0s\n",
      "[Parallel(n_jobs=4)]: Done  13 out of  13 | elapsed:    0.0s finished\n"
     ]
    },
    {
     "name": "stdout",
     "output_type": "stream",
     "text": [
      "Batch nr: 3 of 20\n",
      "building tree 1 of 13\n",
      "building tree 2 of 13\n",
      "building tree 3 of 13\n",
      "building tree 4 of 13\n",
      "building tree 5 of 13\n",
      "building tree 6 of 13\n",
      "building tree 7 of 13\n",
      "building tree 8 of 13\n",
      "building tree 9 of 13\n",
      "building tree 10 of 13\n",
      "building tree 11 of 13\n",
      "building tree 12 of 13\n",
      "building tree 13 of 13\n",
      "Batch nr: 4 of 20\n"
     ]
    },
    {
     "name": "stderr",
     "output_type": "stream",
     "text": [
      "[Parallel(n_jobs=4)]: Using backend ThreadingBackend with 4 concurrent workers.\n"
     ]
    },
    {
     "name": "stdout",
     "output_type": "stream",
     "text": [
      "building tree 1 of 13building tree 2 of 13\n",
      "building tree 3 of 13\n",
      "\n",
      "building tree 4 of 13\n",
      "building tree 5 of 13\n",
      "building tree 6 of 13\n",
      "building tree 7 of 13\n",
      "building tree 8 of 13\n",
      "building tree 9 of 13\n",
      "building tree 10 of 13\n",
      "building tree 11 of 13\n",
      "building tree 12 of 13\n",
      "building tree 13 of 13\n"
     ]
    },
    {
     "name": "stderr",
     "output_type": "stream",
     "text": [
      "[Parallel(n_jobs=4)]: Done  13 out of  13 | elapsed:   11.5s remaining:    0.0s\n",
      "[Parallel(n_jobs=4)]: Done  13 out of  13 | elapsed:   11.5s finished\n"
     ]
    },
    {
     "name": "stdout",
     "output_type": "stream",
     "text": [
      "Batch nr: 5 of 20\n"
     ]
    },
    {
     "name": "stderr",
     "output_type": "stream",
     "text": [
      "[Parallel(n_jobs=4)]: Using backend ThreadingBackend with 4 concurrent workers.\n"
     ]
    },
    {
     "name": "stdout",
     "output_type": "stream",
     "text": [
      "building tree 1 of 13building tree 2 of 13\n",
      "building tree 3 of 13\n",
      "\n",
      "building tree 4 of 13\n",
      "building tree 5 of 13building tree 6 of 13\n",
      "\n",
      "building tree 7 of 13\n",
      "building tree 8 of 13\n",
      "building tree 9 of 13\n",
      "building tree 10 of 13\n",
      "building tree 11 of 13\n",
      "building tree 12 of 13\n",
      "building tree 13 of 13\n",
      "Batch nr: 6 of 20\n"
     ]
    },
    {
     "name": "stderr",
     "output_type": "stream",
     "text": [
      "[Parallel(n_jobs=4)]: Done  13 out of  13 | elapsed:    0.8s remaining:    0.0s\n",
      "[Parallel(n_jobs=4)]: Done  13 out of  13 | elapsed:    0.8s finished\n",
      "[Parallel(n_jobs=4)]: Using backend ThreadingBackend with 4 concurrent workers.\n"
     ]
    },
    {
     "name": "stdout",
     "output_type": "stream",
     "text": [
      "building tree 1 of 13building tree 2 of 13\n",
      "building tree 3 of 13\n",
      "\n",
      "building tree 4 of 13\n",
      "building tree 5 of 13\n",
      "building tree 6 of 13\n",
      "building tree 7 of 13\n",
      "building tree 8 of 13\n",
      "building tree 9 of 13\n",
      "building tree 10 of 13\n",
      "building tree 11 of 13\n",
      "building tree 12 of 13\n",
      "building tree 13 of 13\n"
     ]
    },
    {
     "name": "stderr",
     "output_type": "stream",
     "text": [
      "[Parallel(n_jobs=4)]: Done  13 out of  13 | elapsed:    1.2s remaining:    0.0s\n",
      "[Parallel(n_jobs=4)]: Done  13 out of  13 | elapsed:    1.2s finished\n"
     ]
    },
    {
     "name": "stdout",
     "output_type": "stream",
     "text": [
      "Batch nr: 7 of 20\n"
     ]
    },
    {
     "name": "stderr",
     "output_type": "stream",
     "text": [
      "[Parallel(n_jobs=4)]: Using backend ThreadingBackend with 4 concurrent workers.\n"
     ]
    },
    {
     "name": "stdout",
     "output_type": "stream",
     "text": [
      "building tree 1 of 13building tree 2 of 13\n",
      "building tree 3 of 13\n",
      "\n",
      "building tree 4 of 13\n",
      "building tree 5 of 13\n",
      "building tree 6 of 13\n",
      "building tree 7 of 13\n",
      "building tree 8 of 13\n",
      "building tree 9 of 13\n",
      "building tree 10 of 13\n",
      "building tree 11 of 13\n",
      "building tree 12 of 13\n",
      "building tree 13 of 13\n"
     ]
    },
    {
     "name": "stderr",
     "output_type": "stream",
     "text": [
      "[Parallel(n_jobs=4)]: Done  13 out of  13 | elapsed:    2.2s remaining:    0.0s\n",
      "[Parallel(n_jobs=4)]: Done  13 out of  13 | elapsed:    2.2s finished\n",
      "[Parallel(n_jobs=4)]: Using backend ThreadingBackend with 4 concurrent workers.\n",
      "[Parallel(n_jobs=4)]: Done  13 out of  13 | elapsed:    0.0s remaining:    0.0s\n",
      "[Parallel(n_jobs=4)]: Done  13 out of  13 | elapsed:    0.0s finished\n"
     ]
    },
    {
     "name": "stdout",
     "output_type": "stream",
     "text": [
      "Batch nr: 8 of 20\n",
      "building tree 1 of 13\n",
      "building tree 2 of 13\n",
      "building tree 3 of 13\n",
      "building tree 4 of 13\n",
      "building tree 5 of 13\n",
      "building tree 6 of 13\n",
      "building tree 7 of 13\n",
      "building tree 8 of 13\n",
      "building tree 9 of 13\n",
      "building tree 10 of 13\n",
      "building tree 11 of 13\n",
      "building tree 12 of 13\n",
      "building tree 13 of 13\n",
      "Batch nr: 9 of 20\n"
     ]
    },
    {
     "name": "stderr",
     "output_type": "stream",
     "text": [
      "[Parallel(n_jobs=4)]: Using backend ThreadingBackend with 4 concurrent workers.\n"
     ]
    },
    {
     "name": "stdout",
     "output_type": "stream",
     "text": [
      "building tree 1 of 13building tree 2 of 13\n",
      "building tree 3 of 13\n",
      "\n",
      "building tree 4 of 13\n",
      "building tree 5 of 13\n",
      "building tree 6 of 13\n",
      "building tree 7 of 13\n",
      "building tree 8 of 13\n",
      "building tree 9 of 13\n",
      "building tree 10 of 13\n",
      "building tree 11 of 13\n",
      "building tree 12 of 13\n",
      "building tree 13 of 13\n"
     ]
    },
    {
     "name": "stderr",
     "output_type": "stream",
     "text": [
      "[Parallel(n_jobs=4)]: Done  13 out of  13 | elapsed:    1.1s remaining:    0.0s\n",
      "[Parallel(n_jobs=4)]: Done  13 out of  13 | elapsed:    1.1s finished\n"
     ]
    },
    {
     "name": "stdout",
     "output_type": "stream",
     "text": [
      "Batch nr: 10 of 20\n"
     ]
    },
    {
     "name": "stderr",
     "output_type": "stream",
     "text": [
      "[Parallel(n_jobs=4)]: Using backend ThreadingBackend with 4 concurrent workers.\n"
     ]
    },
    {
     "name": "stdout",
     "output_type": "stream",
     "text": [
      "building tree 1 of 13building tree 2 of 13\n",
      "building tree 3 of 13\n",
      "\n",
      "building tree 4 of 13\n",
      "building tree 5 of 13\n",
      "building tree 6 of 13\n",
      "building tree 7 of 13\n",
      "building tree 8 of 13\n",
      "building tree 9 of 13\n",
      "building tree 10 of 13\n",
      "building tree 11 of 13\n",
      "building tree 12 of 13\n",
      "building tree 13 of 13\n"
     ]
    },
    {
     "name": "stderr",
     "output_type": "stream",
     "text": [
      "[Parallel(n_jobs=4)]: Done  13 out of  13 | elapsed:    0.9s remaining:    0.0s\n",
      "[Parallel(n_jobs=4)]: Done  13 out of  13 | elapsed:    0.9s finished\n"
     ]
    },
    {
     "name": "stdout",
     "output_type": "stream",
     "text": [
      "Batch nr: 11 of 20\n"
     ]
    },
    {
     "name": "stderr",
     "output_type": "stream",
     "text": [
      "[Parallel(n_jobs=4)]: Using backend ThreadingBackend with 4 concurrent workers.\n"
     ]
    },
    {
     "name": "stdout",
     "output_type": "stream",
     "text": [
      "building tree 1 of 13\n",
      "building tree 2 of 13\n",
      "building tree 3 of 13\n",
      "building tree 4 of 13\n",
      "building tree 5 of 13\n",
      "building tree 6 of 13\n",
      "building tree 7 of 13\n",
      "building tree 8 of 13\n",
      "building tree 9 of 13\n",
      "building tree 10 of 13\n",
      "building tree 11 of 13\n",
      "building tree 12 of 13\n",
      "building tree 13 of 13\n"
     ]
    },
    {
     "name": "stderr",
     "output_type": "stream",
     "text": [
      "[Parallel(n_jobs=4)]: Done  13 out of  13 | elapsed:    2.1s remaining:    0.0s\n",
      "[Parallel(n_jobs=4)]: Done  13 out of  13 | elapsed:    2.1s finished\n",
      "[Parallel(n_jobs=4)]: Using backend ThreadingBackend with 4 concurrent workers.\n"
     ]
    },
    {
     "name": "stdout",
     "output_type": "stream",
     "text": [
      "Batch nr: 12 of 20\n",
      "building tree 1 of 13\n",
      "building tree 2 of 13\n",
      "building tree 3 of 13\n",
      "building tree 4 of 13\n",
      "building tree 5 of 13\n",
      "building tree 6 of 13\n",
      "building tree 7 of 13building tree 8 of 13\n",
      "\n",
      "building tree 9 of 13\n",
      "building tree 10 of 13\n",
      "building tree 11 of 13\n",
      "building tree 12 of 13\n",
      "building tree 13 of 13\n",
      "Batch nr: 13 of 20\n"
     ]
    },
    {
     "name": "stderr",
     "output_type": "stream",
     "text": [
      "[Parallel(n_jobs=4)]: Done  13 out of  13 | elapsed:    0.1s remaining:    0.0s\n",
      "[Parallel(n_jobs=4)]: Done  13 out of  13 | elapsed:    0.1s finished\n",
      "[Parallel(n_jobs=4)]: Using backend ThreadingBackend with 4 concurrent workers.\n"
     ]
    },
    {
     "name": "stdout",
     "output_type": "stream",
     "text": [
      "building tree 1 of 13building tree 2 of 13\n",
      "\n",
      "building tree 3 of 13\n",
      "building tree 4 of 13\n",
      "building tree 5 of 13\n",
      "building tree 6 of 13\n",
      "building tree 7 of 13\n",
      "building tree 8 of 13\n",
      "building tree 9 of 13\n",
      "building tree 10 of 13\n",
      "building tree 11 of 13\n",
      "building tree 12 of 13\n",
      "building tree 13 of 13\n",
      "Batch nr: 14 of 20\n"
     ]
    },
    {
     "name": "stderr",
     "output_type": "stream",
     "text": [
      "[Parallel(n_jobs=4)]: Done  13 out of  13 | elapsed:    0.1s remaining:    0.0s\n",
      "[Parallel(n_jobs=4)]: Done  13 out of  13 | elapsed:    0.1s finished\n",
      "[Parallel(n_jobs=4)]: Using backend ThreadingBackend with 4 concurrent workers.\n"
     ]
    },
    {
     "name": "stdout",
     "output_type": "stream",
     "text": [
      "building tree 1 of 13building tree 2 of 13\n",
      "building tree 3 of 13\n",
      "building tree 4 of 13\n",
      "\n",
      "building tree 5 of 13\n",
      "building tree 6 of 13\n",
      "building tree 7 of 13\n",
      "building tree 8 of 13\n",
      "building tree 9 of 13\n",
      "building tree 10 of 13\n",
      "building tree 11 of 13\n",
      "building tree 12 of 13\n",
      "building tree 13 of 13\n"
     ]
    },
    {
     "name": "stderr",
     "output_type": "stream",
     "text": [
      "[Parallel(n_jobs=4)]: Done  13 out of  13 | elapsed:    1.4s remaining:    0.0s\n",
      "[Parallel(n_jobs=4)]: Done  13 out of  13 | elapsed:    1.4s finished\n",
      "[Parallel(n_jobs=4)]: Using backend ThreadingBackend with 4 concurrent workers.\n"
     ]
    },
    {
     "name": "stdout",
     "output_type": "stream",
     "text": [
      "Batch nr: 15 of 20\n",
      "building tree 1 of 13\n",
      "building tree 2 of 13\n",
      "building tree 3 of 13\n",
      "building tree 4 of 13\n",
      "building tree 5 of 13\n",
      "building tree 6 of 13\n",
      "building tree 7 of 13\n",
      "building tree 8 of 13\n",
      "building tree 9 of 13\n",
      "building tree 10 of 13\n",
      "building tree 11 of 13\n",
      "building tree 12 of 13\n",
      "building tree 13 of 13\n"
     ]
    },
    {
     "name": "stderr",
     "output_type": "stream",
     "text": [
      "[Parallel(n_jobs=4)]: Done  13 out of  13 | elapsed:    0.0s remaining:    0.0s\n",
      "[Parallel(n_jobs=4)]: Done  13 out of  13 | elapsed:    0.0s finished\n"
     ]
    },
    {
     "name": "stdout",
     "output_type": "stream",
     "text": [
      "Batch nr: 16 of 20\n"
     ]
    },
    {
     "name": "stderr",
     "output_type": "stream",
     "text": [
      "[Parallel(n_jobs=4)]: Using backend ThreadingBackend with 4 concurrent workers.\n"
     ]
    },
    {
     "name": "stdout",
     "output_type": "stream",
     "text": [
      "building tree 1 of 13building tree 2 of 13\n",
      "\n",
      "building tree 3 of 13\n",
      "building tree 4 of 13\n",
      "building tree 5 of 13\n",
      "building tree 6 of 13\n",
      "building tree 7 of 13\n",
      "building tree 8 of 13\n",
      "building tree 9 of 13\n",
      "building tree 10 of 13\n",
      "building tree 11 of 13\n",
      "building tree 12 of 13\n",
      "building tree 13 of 13\n"
     ]
    },
    {
     "name": "stderr",
     "output_type": "stream",
     "text": [
      "[Parallel(n_jobs=4)]: Done  13 out of  13 | elapsed:    1.1s remaining:    0.0s\n",
      "[Parallel(n_jobs=4)]: Done  13 out of  13 | elapsed:    1.1s finished\n",
      "[Parallel(n_jobs=4)]: Using backend ThreadingBackend with 4 concurrent workers.\n",
      "[Parallel(n_jobs=4)]: Done  33 tasks      | elapsed:    0.0s\n",
      "[Parallel(n_jobs=4)]: Done 154 tasks      | elapsed:    0.1s\n",
      "[Parallel(n_jobs=4)]: Done 208 out of 208 | elapsed:    0.2s finished\n"
     ]
    },
    {
     "name": "stdout",
     "output_type": "stream",
     "text": [
      "Batch nr: 1 of 20\n"
     ]
    },
    {
     "name": "stderr",
     "output_type": "stream",
     "text": [
      "[Parallel(n_jobs=4)]: Using backend ThreadingBackend with 4 concurrent workers.\n"
     ]
    },
    {
     "name": "stdout",
     "output_type": "stream",
     "text": [
      "building tree 1 of 13building tree 2 of 13\n",
      "\n",
      "building tree 3 of 13\n",
      "building tree 4 of 13\n",
      "building tree 5 of 13\n",
      "building tree 6 of 13\n",
      "building tree 7 of 13\n",
      "building tree 8 of 13\n",
      "building tree 9 of 13\n",
      "building tree 10 of 13\n",
      "building tree 11 of 13\n",
      "building tree 12 of 13\n",
      "building tree 13 of 13\n"
     ]
    },
    {
     "name": "stderr",
     "output_type": "stream",
     "text": [
      "[Parallel(n_jobs=4)]: Done  13 out of  13 | elapsed:    1.5s remaining:    0.0s\n",
      "[Parallel(n_jobs=4)]: Done  13 out of  13 | elapsed:    1.5s finished\n"
     ]
    },
    {
     "name": "stdout",
     "output_type": "stream",
     "text": [
      "Batch nr: 2 of 20\n"
     ]
    },
    {
     "name": "stderr",
     "output_type": "stream",
     "text": [
      "[Parallel(n_jobs=4)]: Using backend ThreadingBackend with 4 concurrent workers.\n"
     ]
    },
    {
     "name": "stdout",
     "output_type": "stream",
     "text": [
      "building tree 1 of 13building tree 2 of 13\n",
      "\n",
      "building tree 3 of 13\n",
      "building tree 4 of 13\n",
      "building tree 5 of 13\n",
      "building tree 6 of 13\n",
      "building tree 7 of 13\n",
      "building tree 8 of 13\n",
      "building tree 9 of 13\n",
      "building tree 10 of 13\n",
      "building tree 11 of 13\n",
      "building tree 12 of 13\n",
      "building tree 13 of 13\n"
     ]
    },
    {
     "name": "stderr",
     "output_type": "stream",
     "text": [
      "[Parallel(n_jobs=4)]: Done  13 out of  13 | elapsed:    1.4s remaining:    0.0s\n",
      "[Parallel(n_jobs=4)]: Done  13 out of  13 | elapsed:    1.4s finished\n",
      "[Parallel(n_jobs=4)]: Using backend ThreadingBackend with 4 concurrent workers.\n",
      "[Parallel(n_jobs=4)]: Done  13 out of  13 | elapsed:    0.0s remaining:    0.0s\n",
      "[Parallel(n_jobs=4)]: Done  13 out of  13 | elapsed:    0.0s finished\n"
     ]
    },
    {
     "name": "stdout",
     "output_type": "stream",
     "text": [
      "Batch nr: 3 of 20\n",
      "building tree 1 of 13\n",
      "building tree 2 of 13\n",
      "building tree 3 of 13\n",
      "building tree 4 of 13\n",
      "building tree 5 of 13\n",
      "building tree 6 of 13\n",
      "building tree 7 of 13\n",
      "building tree 8 of 13\n",
      "building tree 9 of 13\n",
      "building tree 10 of 13\n",
      "building tree 11 of 13\n",
      "building tree 12 of 13\n",
      "building tree 13 of 13\n",
      "Batch nr: 4 of 20\n"
     ]
    },
    {
     "name": "stderr",
     "output_type": "stream",
     "text": [
      "[Parallel(n_jobs=4)]: Using backend ThreadingBackend with 4 concurrent workers.\n"
     ]
    },
    {
     "name": "stdout",
     "output_type": "stream",
     "text": [
      "building tree 1 of 13building tree 2 of 13\n",
      "building tree 3 of 13\n",
      "\n",
      "building tree 4 of 13\n",
      "building tree 5 of 13\n",
      "building tree 6 of 13\n",
      "building tree 7 of 13\n",
      "building tree 8 of 13\n",
      "building tree 9 of 13\n",
      "building tree 10 of 13\n",
      "building tree 11 of 13\n",
      "building tree 12 of 13\n",
      "building tree 13 of 13\n"
     ]
    },
    {
     "name": "stderr",
     "output_type": "stream",
     "text": [
      "[Parallel(n_jobs=4)]: Done  13 out of  13 | elapsed:   11.9s remaining:    0.0s\n",
      "[Parallel(n_jobs=4)]: Done  13 out of  13 | elapsed:   11.9s finished\n"
     ]
    },
    {
     "name": "stdout",
     "output_type": "stream",
     "text": [
      "Batch nr: 5 of 20\n"
     ]
    },
    {
     "name": "stderr",
     "output_type": "stream",
     "text": [
      "[Parallel(n_jobs=4)]: Using backend ThreadingBackend with 4 concurrent workers.\n"
     ]
    },
    {
     "name": "stdout",
     "output_type": "stream",
     "text": [
      "building tree 1 of 13building tree 2 of 13\n",
      "building tree 3 of 13\n",
      "\n",
      "building tree 4 of 13\n",
      "building tree 5 of 13\n",
      "building tree 6 of 13\n",
      "building tree 7 of 13\n",
      "building tree 8 of 13\n",
      "building tree 9 of 13\n",
      "building tree 10 of 13\n",
      "building tree 11 of 13\n",
      "building tree 12 of 13\n",
      "building tree 13 of 13\n"
     ]
    },
    {
     "name": "stderr",
     "output_type": "stream",
     "text": [
      "[Parallel(n_jobs=4)]: Done  13 out of  13 | elapsed:    0.7s remaining:    0.0s\n",
      "[Parallel(n_jobs=4)]: Done  13 out of  13 | elapsed:    0.7s finished\n"
     ]
    },
    {
     "name": "stdout",
     "output_type": "stream",
     "text": [
      "Batch nr: 6 of 20\n"
     ]
    },
    {
     "name": "stderr",
     "output_type": "stream",
     "text": [
      "[Parallel(n_jobs=4)]: Using backend ThreadingBackend with 4 concurrent workers.\n"
     ]
    },
    {
     "name": "stdout",
     "output_type": "stream",
     "text": [
      "building tree 1 of 13building tree 2 of 13\n",
      "\n",
      "building tree 3 of 13\n",
      "building tree 4 of 13\n",
      "building tree 5 of 13\n",
      "building tree 6 of 13\n",
      "building tree 7 of 13\n",
      "building tree 8 of 13\n",
      "building tree 9 of 13\n",
      "building tree 10 of 13\n",
      "building tree 11 of 13\n",
      "building tree 12 of 13\n",
      "building tree 13 of 13\n"
     ]
    },
    {
     "name": "stderr",
     "output_type": "stream",
     "text": [
      "[Parallel(n_jobs=4)]: Done  13 out of  13 | elapsed:    1.2s remaining:    0.0s\n",
      "[Parallel(n_jobs=4)]: Done  13 out of  13 | elapsed:    1.2s finished\n"
     ]
    },
    {
     "name": "stdout",
     "output_type": "stream",
     "text": [
      "Batch nr: 7 of 20\n"
     ]
    },
    {
     "name": "stderr",
     "output_type": "stream",
     "text": [
      "[Parallel(n_jobs=4)]: Using backend ThreadingBackend with 4 concurrent workers.\n"
     ]
    },
    {
     "name": "stdout",
     "output_type": "stream",
     "text": [
      "building tree 1 of 13building tree 2 of 13\n",
      "building tree 3 of 13\n",
      "\n",
      "building tree 4 of 13\n",
      "building tree 5 of 13\n",
      "building tree 6 of 13\n",
      "building tree 7 of 13\n",
      "building tree 8 of 13\n",
      "building tree 9 of 13\n",
      "building tree 10 of 13\n",
      "building tree 11 of 13\n",
      "building tree 12 of 13\n",
      "building tree 13 of 13\n"
     ]
    },
    {
     "name": "stderr",
     "output_type": "stream",
     "text": [
      "[Parallel(n_jobs=4)]: Done  13 out of  13 | elapsed:    2.2s remaining:    0.0s\n",
      "[Parallel(n_jobs=4)]: Done  13 out of  13 | elapsed:    2.2s finished\n",
      "[Parallel(n_jobs=4)]: Using backend ThreadingBackend with 4 concurrent workers.\n",
      "[Parallel(n_jobs=4)]: Done  13 out of  13 | elapsed:    0.0s remaining:    0.0s\n",
      "[Parallel(n_jobs=4)]: Done  13 out of  13 | elapsed:    0.0s finished\n"
     ]
    },
    {
     "name": "stdout",
     "output_type": "stream",
     "text": [
      "Batch nr: 8 of 20\n",
      "building tree 1 of 13\n",
      "building tree 2 of 13\n",
      "building tree 3 of 13\n",
      "building tree 4 of 13\n",
      "building tree 5 of 13\n",
      "building tree 6 of 13\n",
      "building tree 7 of 13\n",
      "building tree 8 of 13\n",
      "building tree 9 of 13\n",
      "building tree 10 of 13\n",
      "building tree 11 of 13\n",
      "building tree 12 of 13\n",
      "building tree 13 of 13\n",
      "Batch nr: 9 of 20\n"
     ]
    },
    {
     "name": "stderr",
     "output_type": "stream",
     "text": [
      "[Parallel(n_jobs=4)]: Using backend ThreadingBackend with 4 concurrent workers.\n"
     ]
    },
    {
     "name": "stdout",
     "output_type": "stream",
     "text": [
      "building tree 1 of 13\n",
      "building tree 2 of 13\n",
      "building tree 3 of 13\n",
      "building tree 4 of 13\n",
      "building tree 5 of 13building tree 6 of 13\n",
      "\n",
      "building tree 7 of 13\n",
      "building tree 8 of 13\n",
      "building tree 9 of 13\n",
      "building tree 10 of 13\n",
      "building tree 11 of 13\n",
      "building tree 12 of 13\n",
      "building tree 13 of 13\n"
     ]
    },
    {
     "name": "stderr",
     "output_type": "stream",
     "text": [
      "[Parallel(n_jobs=4)]: Done  13 out of  13 | elapsed:    1.0s remaining:    0.0s\n",
      "[Parallel(n_jobs=4)]: Done  13 out of  13 | elapsed:    1.1s finished\n"
     ]
    },
    {
     "name": "stdout",
     "output_type": "stream",
     "text": [
      "Batch nr: 10 of 20\n"
     ]
    },
    {
     "name": "stderr",
     "output_type": "stream",
     "text": [
      "[Parallel(n_jobs=4)]: Using backend ThreadingBackend with 4 concurrent workers.\n"
     ]
    },
    {
     "name": "stdout",
     "output_type": "stream",
     "text": [
      "building tree 1 of 13building tree 2 of 13\n",
      "building tree 3 of 13\n",
      "\n",
      "building tree 4 of 13\n",
      "building tree 5 of 13\n",
      "building tree 6 of 13\n",
      "building tree 7 of 13\n",
      "building tree 8 of 13\n",
      "building tree 9 of 13\n",
      "building tree 10 of 13\n",
      "building tree 11 of 13\n",
      "building tree 12 of 13\n",
      "building tree 13 of 13\n"
     ]
    },
    {
     "name": "stderr",
     "output_type": "stream",
     "text": [
      "[Parallel(n_jobs=4)]: Done  13 out of  13 | elapsed:    0.9s remaining:    0.0s\n",
      "[Parallel(n_jobs=4)]: Done  13 out of  13 | elapsed:    0.9s finished\n"
     ]
    },
    {
     "name": "stdout",
     "output_type": "stream",
     "text": [
      "Batch nr: 11 of 20\n"
     ]
    },
    {
     "name": "stderr",
     "output_type": "stream",
     "text": [
      "[Parallel(n_jobs=4)]: Using backend ThreadingBackend with 4 concurrent workers.\n"
     ]
    },
    {
     "name": "stdout",
     "output_type": "stream",
     "text": [
      "building tree 1 of 13building tree 2 of 13\n",
      "building tree 3 of 13\n",
      "\n",
      "building tree 4 of 13\n",
      "building tree 5 of 13\n",
      "building tree 6 of 13\n",
      "building tree 7 of 13\n",
      "building tree 8 of 13\n",
      "building tree 9 of 13\n",
      "building tree 10 of 13\n",
      "building tree 11 of 13\n",
      "building tree 12 of 13\n",
      "building tree 13 of 13\n"
     ]
    },
    {
     "name": "stderr",
     "output_type": "stream",
     "text": [
      "[Parallel(n_jobs=4)]: Done  13 out of  13 | elapsed:    2.0s remaining:    0.0s\n",
      "[Parallel(n_jobs=4)]: Done  13 out of  13 | elapsed:    2.0s finished\n",
      "[Parallel(n_jobs=4)]: Using backend ThreadingBackend with 4 concurrent workers.\n"
     ]
    },
    {
     "name": "stdout",
     "output_type": "stream",
     "text": [
      "Batch nr: 12 of 20\n",
      "building tree 1 of 13\n",
      "building tree 2 of 13\n",
      "building tree 3 of 13\n",
      "building tree 4 of 13\n",
      "building tree 5 of 13\n",
      "building tree 6 of 13\n",
      "building tree 7 of 13\n",
      "building tree 8 of 13\n",
      "building tree 9 of 13building tree 10 of 13\n",
      "\n",
      "building tree 11 of 13\n",
      "building tree 12 of 13\n",
      "building tree 13 of 13\n",
      "Batch nr: 13 of 20\n",
      "building tree 1 of 13\n",
      "building tree 2 of 13\n",
      "building tree 3 of 13\n",
      "building tree 4 of 13\n"
     ]
    },
    {
     "name": "stderr",
     "output_type": "stream",
     "text": [
      "[Parallel(n_jobs=4)]: Done  13 out of  13 | elapsed:    0.1s remaining:    0.0s\n",
      "[Parallel(n_jobs=4)]: Done  13 out of  13 | elapsed:    0.1s finished\n",
      "[Parallel(n_jobs=4)]: Using backend ThreadingBackend with 4 concurrent workers.\n"
     ]
    },
    {
     "name": "stdout",
     "output_type": "stream",
     "text": [
      "building tree 5 of 13\n",
      "building tree 6 of 13\n",
      "building tree 7 of 13\n",
      "building tree 8 of 13\n",
      "building tree 9 of 13\n",
      "building tree 10 of 13\n",
      "building tree 11 of 13\n",
      "building tree 12 of 13\n",
      "building tree 13 of 13\n",
      "Batch nr: 14 of 20\n"
     ]
    },
    {
     "name": "stderr",
     "output_type": "stream",
     "text": [
      "[Parallel(n_jobs=4)]: Done  13 out of  13 | elapsed:    0.1s remaining:    0.0s\n",
      "[Parallel(n_jobs=4)]: Done  13 out of  13 | elapsed:    0.1s finished\n",
      "[Parallel(n_jobs=4)]: Using backend ThreadingBackend with 4 concurrent workers.\n"
     ]
    },
    {
     "name": "stdout",
     "output_type": "stream",
     "text": [
      "building tree 1 of 13building tree 2 of 13\n",
      "\n",
      "building tree 3 of 13\n",
      "building tree 4 of 13\n",
      "building tree 5 of 13\n",
      "building tree 6 of 13\n",
      "building tree 7 of 13\n",
      "building tree 8 of 13\n",
      "building tree 9 of 13\n",
      "building tree 10 of 13\n",
      "building tree 11 of 13\n",
      "building tree 12 of 13\n",
      "building tree 13 of 13\n"
     ]
    },
    {
     "name": "stderr",
     "output_type": "stream",
     "text": [
      "[Parallel(n_jobs=4)]: Done  13 out of  13 | elapsed:    1.3s remaining:    0.0s\n",
      "[Parallel(n_jobs=4)]: Done  13 out of  13 | elapsed:    1.3s finished\n",
      "[Parallel(n_jobs=4)]: Using backend ThreadingBackend with 4 concurrent workers.\n",
      "[Parallel(n_jobs=4)]: Done  13 out of  13 | elapsed:    0.0s remaining:    0.0s\n",
      "[Parallel(n_jobs=4)]: Done  13 out of  13 | elapsed:    0.0s finished\n"
     ]
    },
    {
     "name": "stdout",
     "output_type": "stream",
     "text": [
      "Batch nr: 15 of 20\n",
      "building tree 1 of 13\n",
      "building tree 2 of 13\n",
      "building tree 3 of 13\n",
      "building tree 4 of 13\n",
      "building tree 5 of 13\n",
      "building tree 6 of 13\n",
      "building tree 7 of 13\n",
      "building tree 8 of 13\n",
      "building tree 9 of 13\n",
      "building tree 10 of 13\n",
      "building tree 11 of 13\n",
      "building tree 12 of 13\n",
      "building tree 13 of 13\n",
      "Batch nr: 16 of 20\n"
     ]
    },
    {
     "name": "stderr",
     "output_type": "stream",
     "text": [
      "[Parallel(n_jobs=4)]: Using backend ThreadingBackend with 4 concurrent workers.\n"
     ]
    },
    {
     "name": "stdout",
     "output_type": "stream",
     "text": [
      "building tree 1 of 13building tree 2 of 13\n",
      "\n",
      "building tree 3 of 13\n",
      "building tree 4 of 13\n",
      "building tree 5 of 13\n",
      "building tree 6 of 13\n",
      "building tree 7 of 13\n",
      "building tree 8 of 13\n",
      "building tree 9 of 13\n",
      "building tree 10 of 13\n",
      "building tree 11 of 13\n",
      "building tree 12 of 13\n",
      "building tree 13 of 13\n"
     ]
    },
    {
     "name": "stderr",
     "output_type": "stream",
     "text": [
      "[Parallel(n_jobs=4)]: Done  13 out of  13 | elapsed:    1.1s remaining:    0.0s\n",
      "[Parallel(n_jobs=4)]: Done  13 out of  13 | elapsed:    1.1s finished\n",
      "[Parallel(n_jobs=4)]: Using backend ThreadingBackend with 4 concurrent workers.\n",
      "[Parallel(n_jobs=4)]: Done  33 tasks      | elapsed:    0.0s\n",
      "[Parallel(n_jobs=4)]: Done 154 tasks      | elapsed:    0.1s\n",
      "[Parallel(n_jobs=4)]: Done 208 out of 208 | elapsed:    0.2s finished\n"
     ]
    },
    {
     "name": "stdout",
     "output_type": "stream",
     "text": [
      "Number Fold:  [3]  of  [5]\n",
      "Batch nr: 1 of 20\n"
     ]
    },
    {
     "name": "stderr",
     "output_type": "stream",
     "text": [
      "[Parallel(n_jobs=4)]: Using backend ThreadingBackend with 4 concurrent workers.\n"
     ]
    },
    {
     "name": "stdout",
     "output_type": "stream",
     "text": [
      "building tree 1 of 13building tree 2 of 13\n",
      "building tree 3 of 13\n",
      "\n",
      "building tree 4 of 13\n",
      "building tree 5 of 13\n",
      "building tree 6 of 13\n",
      "building tree 7 of 13\n",
      "building tree 8 of 13\n",
      "building tree 9 of 13\n",
      "building tree 10 of 13\n",
      "building tree 11 of 13\n",
      "building tree 12 of 13\n",
      "building tree 13 of 13\n"
     ]
    },
    {
     "name": "stderr",
     "output_type": "stream",
     "text": [
      "[Parallel(n_jobs=4)]: Done  13 out of  13 | elapsed:    1.7s remaining:    0.0s\n",
      "[Parallel(n_jobs=4)]: Done  13 out of  13 | elapsed:    1.7s finished\n"
     ]
    },
    {
     "name": "stdout",
     "output_type": "stream",
     "text": [
      "Batch nr: 2 of 20\n"
     ]
    },
    {
     "name": "stderr",
     "output_type": "stream",
     "text": [
      "[Parallel(n_jobs=4)]: Using backend ThreadingBackend with 4 concurrent workers.\n"
     ]
    },
    {
     "name": "stdout",
     "output_type": "stream",
     "text": [
      "building tree 1 of 13\n",
      "building tree 2 of 13\n",
      "building tree 3 of 13\n",
      "building tree 4 of 13\n",
      "building tree 5 of 13\n",
      "building tree 6 of 13\n",
      "building tree 7 of 13\n",
      "building tree 8 of 13\n",
      "building tree 9 of 13\n",
      "building tree 10 of 13\n",
      "building tree 11 of 13\n",
      "building tree 12 of 13\n",
      "building tree 13 of 13\n"
     ]
    },
    {
     "name": "stderr",
     "output_type": "stream",
     "text": [
      "[Parallel(n_jobs=4)]: Done  13 out of  13 | elapsed:    1.5s remaining:    0.0s\n",
      "[Parallel(n_jobs=4)]: Done  13 out of  13 | elapsed:    1.5s finished\n",
      "[Parallel(n_jobs=4)]: Using backend ThreadingBackend with 4 concurrent workers.\n"
     ]
    },
    {
     "name": "stdout",
     "output_type": "stream",
     "text": [
      "Batch nr: 3 of 20\n",
      "building tree 1 of 13\n",
      "building tree 2 of 13\n",
      "building tree 3 of 13\n",
      "building tree 4 of 13\n",
      "building tree 5 of 13\n",
      "building tree 6 of 13\n",
      "building tree 7 of 13\n",
      "building tree 8 of 13\n",
      "building tree 9 of 13\n",
      "building tree 10 of 13\n",
      "building tree 11 of 13\n",
      "building tree 12 of 13\n",
      "building tree 13 of 13\n"
     ]
    },
    {
     "name": "stderr",
     "output_type": "stream",
     "text": [
      "[Parallel(n_jobs=4)]: Done  13 out of  13 | elapsed:    0.0s remaining:    0.0s\n",
      "[Parallel(n_jobs=4)]: Done  13 out of  13 | elapsed:    0.0s finished\n"
     ]
    },
    {
     "name": "stdout",
     "output_type": "stream",
     "text": [
      "Batch nr: 4 of 20\n"
     ]
    },
    {
     "name": "stderr",
     "output_type": "stream",
     "text": [
      "[Parallel(n_jobs=4)]: Using backend ThreadingBackend with 4 concurrent workers.\n"
     ]
    },
    {
     "name": "stdout",
     "output_type": "stream",
     "text": [
      "building tree 1 of 13building tree 2 of 13\n",
      "building tree 3 of 13\n",
      "building tree 4 of 13\n",
      "\n",
      "building tree 5 of 13\n",
      "building tree 6 of 13\n",
      "building tree 7 of 13\n",
      "building tree 8 of 13\n",
      "building tree 9 of 13\n",
      "building tree 10 of 13\n",
      "building tree 11 of 13\n",
      "building tree 12 of 13\n",
      "building tree 13 of 13\n"
     ]
    },
    {
     "name": "stderr",
     "output_type": "stream",
     "text": [
      "[Parallel(n_jobs=4)]: Done  13 out of  13 | elapsed:   11.9s remaining:    0.0s\n",
      "[Parallel(n_jobs=4)]: Done  13 out of  13 | elapsed:   11.9s finished\n",
      "[Parallel(n_jobs=4)]: Using backend ThreadingBackend with 4 concurrent workers.\n"
     ]
    },
    {
     "name": "stdout",
     "output_type": "stream",
     "text": [
      "Batch nr: 5 of 20\n",
      "building tree 1 of 13\n",
      "building tree 2 of 13\n",
      "building tree 3 of 13\n",
      "building tree 4 of 13\n",
      "building tree 5 of 13building tree 6 of 13\n",
      "\n",
      "building tree 7 of 13\n",
      "building tree 8 of 13\n",
      "building tree 9 of 13\n",
      "building tree 10 of 13\n",
      "building tree 11 of 13\n",
      "building tree 12 of 13\n",
      "building tree 13 of 13\n"
     ]
    },
    {
     "name": "stderr",
     "output_type": "stream",
     "text": [
      "[Parallel(n_jobs=4)]: Done  13 out of  13 | elapsed:    0.2s remaining:    0.0s\n",
      "[Parallel(n_jobs=4)]: Done  13 out of  13 | elapsed:    0.2s finished\n"
     ]
    },
    {
     "name": "stdout",
     "output_type": "stream",
     "text": [
      "Batch nr: 6 of 20\n"
     ]
    },
    {
     "name": "stderr",
     "output_type": "stream",
     "text": [
      "[Parallel(n_jobs=4)]: Using backend ThreadingBackend with 4 concurrent workers.\n"
     ]
    },
    {
     "name": "stdout",
     "output_type": "stream",
     "text": [
      "building tree 1 of 13building tree 2 of 13\n",
      "building tree 3 of 13\n",
      "\n",
      "building tree 4 of 13\n",
      "building tree 5 of 13\n",
      "building tree 6 of 13\n",
      "building tree 7 of 13\n",
      "building tree 8 of 13\n",
      "building tree 9 of 13\n",
      "building tree 10 of 13\n",
      "building tree 11 of 13\n",
      "building tree 12 of 13\n",
      "building tree 13 of 13\n"
     ]
    },
    {
     "name": "stderr",
     "output_type": "stream",
     "text": [
      "[Parallel(n_jobs=4)]: Done  13 out of  13 | elapsed:    1.2s remaining:    0.0s\n",
      "[Parallel(n_jobs=4)]: Done  13 out of  13 | elapsed:    1.2s finished\n",
      "[Parallel(n_jobs=4)]: Using backend ThreadingBackend with 4 concurrent workers.\n"
     ]
    },
    {
     "name": "stdout",
     "output_type": "stream",
     "text": [
      "Batch nr: 7 of 20\n",
      "building tree 1 of 13\n",
      "building tree 2 of 13\n",
      "building tree 3 of 13\n",
      "building tree 4 of 13\n",
      "building tree 5 of 13building tree 6 of 13\n",
      "\n",
      "building tree 7 of 13\n",
      "building tree 8 of 13\n",
      "building tree 9 of 13\n",
      "building tree 10 of 13\n",
      "building tree 11 of 13\n",
      "building tree 12 of 13\n",
      "building tree 13 of 13\n",
      "Batch nr: 8 of 20\n"
     ]
    },
    {
     "name": "stderr",
     "output_type": "stream",
     "text": [
      "[Parallel(n_jobs=4)]: Done  13 out of  13 | elapsed:    0.3s remaining:    0.0s\n",
      "[Parallel(n_jobs=4)]: Done  13 out of  13 | elapsed:    0.3s finished\n",
      "[Parallel(n_jobs=4)]: Using backend ThreadingBackend with 4 concurrent workers.\n"
     ]
    },
    {
     "name": "stdout",
     "output_type": "stream",
     "text": [
      "building tree 1 of 13building tree 2 of 13\n",
      "\n",
      "building tree 3 of 13\n",
      "building tree 4 of 13\n",
      "building tree 5 of 13\n",
      "building tree 6 of 13\n",
      "building tree 7 of 13\n",
      "building tree 8 of 13\n",
      "building tree 9 of 13\n",
      "building tree 10 of 13\n",
      "building tree 11 of 13\n",
      "building tree 12 of 13\n",
      "building tree 13 of 13\n"
     ]
    },
    {
     "name": "stderr",
     "output_type": "stream",
     "text": [
      "[Parallel(n_jobs=4)]: Done  13 out of  13 | elapsed:    0.7s remaining:    0.0s\n",
      "[Parallel(n_jobs=4)]: Done  13 out of  13 | elapsed:    0.7s finished\n"
     ]
    },
    {
     "name": "stdout",
     "output_type": "stream",
     "text": [
      "Batch nr: 9 of 20\n"
     ]
    },
    {
     "name": "stderr",
     "output_type": "stream",
     "text": [
      "[Parallel(n_jobs=4)]: Using backend ThreadingBackend with 4 concurrent workers.\n"
     ]
    },
    {
     "name": "stdout",
     "output_type": "stream",
     "text": [
      "building tree 1 of 13building tree 2 of 13\n",
      "\n",
      "building tree 3 of 13\n",
      "building tree 4 of 13\n",
      "building tree 5 of 13\n",
      "building tree 6 of 13\n",
      "building tree 7 of 13\n",
      "building tree 8 of 13\n",
      "building tree 9 of 13\n",
      "building tree 10 of 13\n",
      "building tree 11 of 13\n",
      "building tree 12 of 13\n",
      "building tree 13 of 13\n"
     ]
    },
    {
     "name": "stderr",
     "output_type": "stream",
     "text": [
      "[Parallel(n_jobs=4)]: Done  13 out of  13 | elapsed:    1.1s remaining:    0.0s\n",
      "[Parallel(n_jobs=4)]: Done  13 out of  13 | elapsed:    1.1s finished\n"
     ]
    },
    {
     "name": "stdout",
     "output_type": "stream",
     "text": [
      "Batch nr: 10 of 20\n"
     ]
    },
    {
     "name": "stderr",
     "output_type": "stream",
     "text": [
      "[Parallel(n_jobs=4)]: Using backend ThreadingBackend with 4 concurrent workers.\n"
     ]
    },
    {
     "name": "stdout",
     "output_type": "stream",
     "text": [
      "building tree 1 of 13building tree 2 of 13\n",
      "building tree 3 of 13\n",
      "\n",
      "building tree 4 of 13\n",
      "building tree 5 of 13\n",
      "building tree 6 of 13\n",
      "building tree 7 of 13\n",
      "building tree 8 of 13\n",
      "building tree 9 of 13\n",
      "building tree 10 of 13\n",
      "building tree 11 of 13\n",
      "building tree 12 of 13\n",
      "building tree 13 of 13\n"
     ]
    },
    {
     "name": "stderr",
     "output_type": "stream",
     "text": [
      "[Parallel(n_jobs=4)]: Done  13 out of  13 | elapsed:    0.9s remaining:    0.0s\n",
      "[Parallel(n_jobs=4)]: Done  13 out of  13 | elapsed:    0.9s finished\n"
     ]
    },
    {
     "name": "stdout",
     "output_type": "stream",
     "text": [
      "Batch nr: 11 of 20\n"
     ]
    },
    {
     "name": "stderr",
     "output_type": "stream",
     "text": [
      "[Parallel(n_jobs=4)]: Using backend ThreadingBackend with 4 concurrent workers.\n"
     ]
    },
    {
     "name": "stdout",
     "output_type": "stream",
     "text": [
      "building tree 1 of 13building tree 2 of 13\n",
      "\n",
      "building tree 3 of 13\n",
      "building tree 4 of 13\n",
      "building tree 5 of 13\n",
      "building tree 6 of 13\n",
      "building tree 7 of 13\n",
      "building tree 8 of 13\n",
      "building tree 9 of 13\n",
      "building tree 10 of 13\n",
      "building tree 11 of 13\n",
      "building tree 12 of 13\n",
      "building tree 13 of 13\n"
     ]
    },
    {
     "name": "stderr",
     "output_type": "stream",
     "text": [
      "[Parallel(n_jobs=4)]: Done  13 out of  13 | elapsed:    2.0s remaining:    0.0s\n",
      "[Parallel(n_jobs=4)]: Done  13 out of  13 | elapsed:    2.0s finished\n",
      "[Parallel(n_jobs=4)]: Using backend ThreadingBackend with 4 concurrent workers.\n"
     ]
    },
    {
     "name": "stdout",
     "output_type": "stream",
     "text": [
      "Batch nr: 12 of 20\n",
      "building tree 1 of 13\n",
      "building tree 2 of 13\n",
      "building tree 3 of 13\n",
      "building tree 4 of 13\n",
      "building tree 5 of 13\n",
      "building tree 6 of 13\n",
      "building tree 7 of 13\n",
      "building tree 8 of 13\n",
      "building tree 9 of 13building tree 10 of 13\n",
      "building tree 11 of 13\n",
      "\n",
      "building tree 12 of 13\n",
      "building tree 13 of 13\n",
      "Batch nr: 13 of 20\n",
      "building tree 1 of 13\n",
      "building tree 2 of 13\n",
      "building tree 3 of 13\n",
      "building tree 4 of 13\n"
     ]
    },
    {
     "name": "stderr",
     "output_type": "stream",
     "text": [
      "[Parallel(n_jobs=4)]: Done  13 out of  13 | elapsed:    0.1s remaining:    0.0s\n",
      "[Parallel(n_jobs=4)]: Done  13 out of  13 | elapsed:    0.1s finished\n",
      "[Parallel(n_jobs=4)]: Using backend ThreadingBackend with 4 concurrent workers.\n"
     ]
    },
    {
     "name": "stdout",
     "output_type": "stream",
     "text": [
      "building tree 5 of 13\n",
      "building tree 6 of 13\n",
      "building tree 7 of 13\n",
      "building tree 8 of 13\n",
      "building tree 9 of 13\n",
      "building tree 10 of 13\n",
      "building tree 11 of 13\n",
      "building tree 12 of 13\n",
      "building tree 13 of 13\n",
      "Batch nr: 14 of 20\n"
     ]
    },
    {
     "name": "stderr",
     "output_type": "stream",
     "text": [
      "[Parallel(n_jobs=4)]: Done  13 out of  13 | elapsed:    0.1s remaining:    0.0s\n",
      "[Parallel(n_jobs=4)]: Done  13 out of  13 | elapsed:    0.1s finished\n",
      "[Parallel(n_jobs=4)]: Using backend ThreadingBackend with 4 concurrent workers.\n"
     ]
    },
    {
     "name": "stdout",
     "output_type": "stream",
     "text": [
      "building tree 1 of 13building tree 2 of 13\n",
      "building tree 3 of 13\n",
      "building tree 4 of 13\n",
      "\n",
      "building tree 5 of 13\n",
      "building tree 6 of 13\n",
      "building tree 7 of 13\n",
      "building tree 8 of 13\n",
      "building tree 9 of 13\n",
      "building tree 10 of 13\n",
      "building tree 11 of 13\n",
      "building tree 12 of 13\n",
      "building tree 13 of 13\n",
      "Batch nr: 15 of 20\n",
      "building tree 1 of 13\n",
      "building tree 2 of 13\n",
      "building tree 3 of 13\n",
      "building tree 4 of 13\n",
      "building tree 5 of 13\n",
      "building tree 6 of 13\n",
      "building tree 7 of 13\n",
      "building tree 8 of 13\n",
      "building tree 9 of 13\n",
      "building tree 10 of 13\n",
      "building tree 11 of 13\n",
      "building tree 12 of 13\n",
      "building tree 13 of 13\n",
      "Batch nr: 16 of 20\n"
     ]
    },
    {
     "name": "stderr",
     "output_type": "stream",
     "text": [
      "[Parallel(n_jobs=4)]: Done  13 out of  13 | elapsed:    1.4s remaining:    0.0s\n",
      "[Parallel(n_jobs=4)]: Done  13 out of  13 | elapsed:    1.4s finished\n",
      "[Parallel(n_jobs=4)]: Using backend ThreadingBackend with 4 concurrent workers.\n",
      "[Parallel(n_jobs=4)]: Done  13 out of  13 | elapsed:    0.0s remaining:    0.0s\n",
      "[Parallel(n_jobs=4)]: Done  13 out of  13 | elapsed:    0.0s finished\n",
      "[Parallel(n_jobs=4)]: Using backend ThreadingBackend with 4 concurrent workers.\n"
     ]
    },
    {
     "name": "stdout",
     "output_type": "stream",
     "text": [
      "building tree 1 of 13building tree 2 of 13\n",
      "\n",
      "building tree 3 of 13\n",
      "building tree 4 of 13\n",
      "building tree 5 of 13\n",
      "building tree 6 of 13\n",
      "building tree 7 of 13\n",
      "building tree 8 of 13\n",
      "building tree 9 of 13\n",
      "building tree 10 of 13\n",
      "building tree 11 of 13\n",
      "building tree 12 of 13\n",
      "building tree 13 of 13\n"
     ]
    },
    {
     "name": "stderr",
     "output_type": "stream",
     "text": [
      "[Parallel(n_jobs=4)]: Done  13 out of  13 | elapsed:    1.1s remaining:    0.0s\n",
      "[Parallel(n_jobs=4)]: Done  13 out of  13 | elapsed:    1.1s finished\n",
      "[Parallel(n_jobs=4)]: Using backend ThreadingBackend with 4 concurrent workers.\n",
      "[Parallel(n_jobs=4)]: Done  33 tasks      | elapsed:    0.0s\n",
      "[Parallel(n_jobs=4)]: Done 154 tasks      | elapsed:    0.2s\n",
      "[Parallel(n_jobs=4)]: Done 208 out of 208 | elapsed:    0.3s finished\n"
     ]
    },
    {
     "name": "stdout",
     "output_type": "stream",
     "text": [
      "Batch nr: 1 of 20\n"
     ]
    },
    {
     "name": "stderr",
     "output_type": "stream",
     "text": [
      "[Parallel(n_jobs=4)]: Using backend ThreadingBackend with 4 concurrent workers.\n"
     ]
    },
    {
     "name": "stdout",
     "output_type": "stream",
     "text": [
      "building tree 1 of 13building tree 2 of 13\n",
      "\n",
      "building tree 3 of 13\n",
      "building tree 4 of 13\n",
      "building tree 5 of 13\n",
      "building tree 6 of 13\n",
      "building tree 7 of 13\n",
      "building tree 8 of 13\n",
      "building tree 9 of 13\n",
      "building tree 10 of 13\n",
      "building tree 11 of 13\n",
      "building tree 12 of 13\n",
      "building tree 13 of 13\n"
     ]
    },
    {
     "name": "stderr",
     "output_type": "stream",
     "text": [
      "[Parallel(n_jobs=4)]: Done  13 out of  13 | elapsed:    1.5s remaining:    0.0s\n",
      "[Parallel(n_jobs=4)]: Done  13 out of  13 | elapsed:    1.5s finished\n"
     ]
    },
    {
     "name": "stdout",
     "output_type": "stream",
     "text": [
      "Batch nr: 2 of 20\n"
     ]
    },
    {
     "name": "stderr",
     "output_type": "stream",
     "text": [
      "[Parallel(n_jobs=4)]: Using backend ThreadingBackend with 4 concurrent workers.\n"
     ]
    },
    {
     "name": "stdout",
     "output_type": "stream",
     "text": [
      "building tree 1 of 13building tree 2 of 13\n",
      "\n",
      "building tree 3 of 13\n",
      "building tree 4 of 13\n",
      "building tree 5 of 13\n",
      "building tree 6 of 13\n",
      "building tree 7 of 13\n",
      "building tree 8 of 13\n",
      "building tree 9 of 13\n",
      "building tree 10 of 13\n",
      "building tree 11 of 13\n",
      "building tree 12 of 13\n",
      "building tree 13 of 13\n"
     ]
    },
    {
     "name": "stderr",
     "output_type": "stream",
     "text": [
      "[Parallel(n_jobs=4)]: Done  13 out of  13 | elapsed:    1.3s remaining:    0.0s\n",
      "[Parallel(n_jobs=4)]: Done  13 out of  13 | elapsed:    1.3s finished\n",
      "[Parallel(n_jobs=4)]: Using backend ThreadingBackend with 4 concurrent workers.\n",
      "[Parallel(n_jobs=4)]: Done  13 out of  13 | elapsed:    0.0s remaining:    0.0s\n",
      "[Parallel(n_jobs=4)]: Done  13 out of  13 | elapsed:    0.0s finished\n"
     ]
    },
    {
     "name": "stdout",
     "output_type": "stream",
     "text": [
      "Batch nr: 3 of 20\n",
      "building tree 1 of 13\n",
      "building tree 2 of 13\n",
      "building tree 3 of 13\n",
      "building tree 4 of 13\n",
      "building tree 5 of 13\n",
      "building tree 6 of 13\n",
      "building tree 7 of 13\n",
      "building tree 8 of 13\n",
      "building tree 9 of 13\n",
      "building tree 10 of 13\n",
      "building tree 11 of 13\n",
      "building tree 12 of 13\n",
      "building tree 13 of 13\n",
      "Batch nr: 4 of 20\n"
     ]
    },
    {
     "name": "stderr",
     "output_type": "stream",
     "text": [
      "[Parallel(n_jobs=4)]: Using backend ThreadingBackend with 4 concurrent workers.\n"
     ]
    },
    {
     "name": "stdout",
     "output_type": "stream",
     "text": [
      "building tree 1 of 13building tree 2 of 13\n",
      "building tree 3 of 13\n",
      "building tree 4 of 13\n",
      "\n",
      "building tree 5 of 13\n",
      "building tree 6 of 13\n",
      "building tree 7 of 13\n",
      "building tree 8 of 13\n",
      "building tree 9 of 13\n",
      "building tree 10 of 13\n",
      "building tree 11 of 13\n",
      "building tree 12 of 13\n",
      "building tree 13 of 13\n"
     ]
    },
    {
     "name": "stderr",
     "output_type": "stream",
     "text": [
      "[Parallel(n_jobs=4)]: Done  13 out of  13 | elapsed:   11.9s remaining:    0.0s\n",
      "[Parallel(n_jobs=4)]: Done  13 out of  13 | elapsed:   11.9s finished\n",
      "[Parallel(n_jobs=4)]: Using backend ThreadingBackend with 4 concurrent workers.\n"
     ]
    },
    {
     "name": "stdout",
     "output_type": "stream",
     "text": [
      "Batch nr: 5 of 20\n",
      "building tree 1 of 13\n",
      "building tree 2 of 13\n",
      "building tree 3 of 13\n",
      "building tree 4 of 13\n",
      "building tree 5 of 13building tree 6 of 13\n",
      "building tree 7 of 13\n",
      "building tree 8 of 13\n",
      "\n",
      "building tree 9 of 13\n",
      "building tree 10 of 13\n",
      "building tree 11 of 13\n",
      "building tree 12 of 13\n",
      "building tree 13 of 13\n"
     ]
    },
    {
     "name": "stderr",
     "output_type": "stream",
     "text": [
      "[Parallel(n_jobs=4)]: Done  13 out of  13 | elapsed:    0.2s remaining:    0.0s\n",
      "[Parallel(n_jobs=4)]: Done  13 out of  13 | elapsed:    0.2s finished\n"
     ]
    },
    {
     "name": "stdout",
     "output_type": "stream",
     "text": [
      "Batch nr: 6 of 20\n"
     ]
    },
    {
     "name": "stderr",
     "output_type": "stream",
     "text": [
      "[Parallel(n_jobs=4)]: Using backend ThreadingBackend with 4 concurrent workers.\n"
     ]
    },
    {
     "name": "stdout",
     "output_type": "stream",
     "text": [
      "building tree 1 of 13building tree 2 of 13\n",
      "\n",
      "building tree 3 of 13\n",
      "building tree 4 of 13\n",
      "building tree 5 of 13\n",
      "building tree 6 of 13\n",
      "building tree 7 of 13\n",
      "building tree 8 of 13\n",
      "building tree 9 of 13\n",
      "building tree 10 of 13\n",
      "building tree 11 of 13\n",
      "building tree 12 of 13\n",
      "building tree 13 of 13\n"
     ]
    },
    {
     "name": "stderr",
     "output_type": "stream",
     "text": [
      "[Parallel(n_jobs=4)]: Done  13 out of  13 | elapsed:    1.0s remaining:    0.0s\n",
      "[Parallel(n_jobs=4)]: Done  13 out of  13 | elapsed:    1.0s finished\n",
      "[Parallel(n_jobs=4)]: Using backend ThreadingBackend with 4 concurrent workers.\n"
     ]
    },
    {
     "name": "stdout",
     "output_type": "stream",
     "text": [
      "Batch nr: 7 of 20\n",
      "building tree 1 of 13\n",
      "building tree 2 of 13\n",
      "building tree 3 of 13\n",
      "building tree 4 of 13\n",
      "building tree 5 of 13\n",
      "building tree 6 of 13\n",
      "building tree 7 of 13\n",
      "building tree 8 of 13\n",
      "building tree 9 of 13\n",
      "building tree 10 of 13\n",
      "building tree 11 of 13\n",
      "building tree 12 of 13\n",
      "building tree 13 of 13\n"
     ]
    },
    {
     "name": "stderr",
     "output_type": "stream",
     "text": [
      "[Parallel(n_jobs=4)]: Done  13 out of  13 | elapsed:    0.3s remaining:    0.0s\n",
      "[Parallel(n_jobs=4)]: Done  13 out of  13 | elapsed:    0.3s finished\n"
     ]
    },
    {
     "name": "stdout",
     "output_type": "stream",
     "text": [
      "Batch nr: 8 of 20\n"
     ]
    },
    {
     "name": "stderr",
     "output_type": "stream",
     "text": [
      "[Parallel(n_jobs=4)]: Using backend ThreadingBackend with 4 concurrent workers.\n"
     ]
    },
    {
     "name": "stdout",
     "output_type": "stream",
     "text": [
      "building tree 1 of 13building tree 2 of 13\n",
      "\n",
      "building tree 3 of 13\n",
      "building tree 4 of 13\n",
      "building tree 5 of 13building tree 6 of 13\n",
      "\n",
      "building tree 7 of 13\n",
      "building tree 8 of 13\n",
      "building tree 9 of 13\n",
      "building tree 10 of 13\n",
      "building tree 11 of 13\n",
      "building tree 12 of 13\n",
      "building tree 13 of 13\n"
     ]
    },
    {
     "name": "stderr",
     "output_type": "stream",
     "text": [
      "[Parallel(n_jobs=4)]: Done  13 out of  13 | elapsed:    0.9s remaining:    0.0s\n",
      "[Parallel(n_jobs=4)]: Done  13 out of  13 | elapsed:    0.9s finished\n"
     ]
    },
    {
     "name": "stdout",
     "output_type": "stream",
     "text": [
      "Batch nr: 9 of 20\n"
     ]
    },
    {
     "name": "stderr",
     "output_type": "stream",
     "text": [
      "[Parallel(n_jobs=4)]: Using backend ThreadingBackend with 4 concurrent workers.\n"
     ]
    },
    {
     "name": "stdout",
     "output_type": "stream",
     "text": [
      "building tree 1 of 13building tree 2 of 13\n",
      "building tree 3 of 13\n",
      "building tree 4 of 13\n",
      "\n",
      "building tree 5 of 13building tree 6 of 13\n",
      "\n",
      "building tree 7 of 13\n",
      "building tree 8 of 13\n",
      "building tree 9 of 13\n",
      "building tree 10 of 13\n",
      "building tree 11 of 13\n",
      "building tree 12 of 13\n",
      "building tree 13 of 13\n"
     ]
    },
    {
     "name": "stderr",
     "output_type": "stream",
     "text": [
      "[Parallel(n_jobs=4)]: Done  13 out of  13 | elapsed:    1.1s remaining:    0.0s\n",
      "[Parallel(n_jobs=4)]: Done  13 out of  13 | elapsed:    1.1s finished\n"
     ]
    },
    {
     "name": "stdout",
     "output_type": "stream",
     "text": [
      "Batch nr: 10 of 20\n"
     ]
    },
    {
     "name": "stderr",
     "output_type": "stream",
     "text": [
      "[Parallel(n_jobs=4)]: Using backend ThreadingBackend with 4 concurrent workers.\n"
     ]
    },
    {
     "name": "stdout",
     "output_type": "stream",
     "text": [
      "building tree 1 of 13building tree 2 of 13\n",
      "building tree 3 of 13\n",
      "\n",
      "building tree 4 of 13\n",
      "building tree 5 of 13\n",
      "building tree 6 of 13\n",
      "building tree 7 of 13\n",
      "building tree 8 of 13\n",
      "building tree 9 of 13\n",
      "building tree 10 of 13\n",
      "building tree 11 of 13\n",
      "building tree 12 of 13\n",
      "building tree 13 of 13\n"
     ]
    },
    {
     "name": "stderr",
     "output_type": "stream",
     "text": [
      "[Parallel(n_jobs=4)]: Done  13 out of  13 | elapsed:    0.9s remaining:    0.0s\n",
      "[Parallel(n_jobs=4)]: Done  13 out of  13 | elapsed:    0.9s finished\n"
     ]
    },
    {
     "name": "stdout",
     "output_type": "stream",
     "text": [
      "Batch nr: 11 of 20\n"
     ]
    },
    {
     "name": "stderr",
     "output_type": "stream",
     "text": [
      "[Parallel(n_jobs=4)]: Using backend ThreadingBackend with 4 concurrent workers.\n"
     ]
    },
    {
     "name": "stdout",
     "output_type": "stream",
     "text": [
      "building tree 1 of 13building tree 2 of 13\n",
      "building tree 3 of 13\n",
      "\n",
      "building tree 4 of 13\n",
      "building tree 5 of 13\n",
      "building tree 6 of 13\n",
      "building tree 7 of 13\n",
      "building tree 8 of 13\n",
      "building tree 9 of 13\n",
      "building tree 10 of 13\n",
      "building tree 11 of 13\n",
      "building tree 12 of 13\n",
      "building tree 13 of 13\n"
     ]
    },
    {
     "name": "stderr",
     "output_type": "stream",
     "text": [
      "[Parallel(n_jobs=4)]: Done  13 out of  13 | elapsed:    1.9s remaining:    0.0s\n",
      "[Parallel(n_jobs=4)]: Done  13 out of  13 | elapsed:    2.0s finished\n",
      "[Parallel(n_jobs=4)]: Using backend ThreadingBackend with 4 concurrent workers.\n"
     ]
    },
    {
     "name": "stdout",
     "output_type": "stream",
     "text": [
      "Batch nr: 12 of 20\n",
      "building tree 1 of 13\n",
      "building tree 2 of 13\n",
      "building tree 3 of 13\n",
      "building tree 4 of 13\n",
      "building tree 5 of 13\n",
      "building tree 6 of 13\n",
      "building tree 7 of 13\n",
      "building tree 8 of 13\n",
      "building tree 9 of 13\n",
      "building tree 10 of 13\n",
      "building tree 11 of 13building tree 12 of 13\n",
      "\n",
      "building tree 13 of 13\n",
      "Batch nr: 13 of 20\n",
      "building tree 1 of 13\n",
      "building tree 2 of 13\n",
      "building tree 3 of 13\n",
      "building tree 4 of 13\n",
      "building tree 5 of 13\n",
      "building tree 6 of 13\n",
      "building tree 7 of 13\n",
      "building tree 8 of 13\n"
     ]
    },
    {
     "name": "stderr",
     "output_type": "stream",
     "text": [
      "[Parallel(n_jobs=4)]: Done  13 out of  13 | elapsed:    0.1s remaining:    0.0s\n",
      "[Parallel(n_jobs=4)]: Done  13 out of  13 | elapsed:    0.1s finished\n",
      "[Parallel(n_jobs=4)]: Using backend ThreadingBackend with 4 concurrent workers.\n"
     ]
    },
    {
     "name": "stdout",
     "output_type": "stream",
     "text": [
      "building tree 9 of 13\n",
      "building tree 10 of 13\n",
      "building tree 11 of 13\n",
      "building tree 12 of 13\n",
      "building tree 13 of 13\n",
      "Batch nr: 14 of 20\n"
     ]
    },
    {
     "name": "stderr",
     "output_type": "stream",
     "text": [
      "[Parallel(n_jobs=4)]: Done  13 out of  13 | elapsed:    0.1s remaining:    0.0s\n",
      "[Parallel(n_jobs=4)]: Done  13 out of  13 | elapsed:    0.1s finished\n",
      "[Parallel(n_jobs=4)]: Using backend ThreadingBackend with 4 concurrent workers.\n"
     ]
    },
    {
     "name": "stdout",
     "output_type": "stream",
     "text": [
      "building tree 1 of 13building tree 2 of 13\n",
      "building tree 3 of 13\n",
      "\n",
      "building tree 4 of 13\n",
      "building tree 5 of 13building tree 6 of 13\n",
      "\n",
      "building tree 7 of 13\n",
      "building tree 8 of 13\n",
      "building tree 9 of 13\n",
      "building tree 10 of 13\n",
      "building tree 11 of 13\n",
      "building tree 12 of 13\n",
      "building tree 13 of 13\n"
     ]
    },
    {
     "name": "stderr",
     "output_type": "stream",
     "text": [
      "[Parallel(n_jobs=4)]: Done  13 out of  13 | elapsed:    1.4s remaining:    0.0s\n",
      "[Parallel(n_jobs=4)]: Done  13 out of  13 | elapsed:    1.4s finished\n",
      "[Parallel(n_jobs=4)]: Using backend ThreadingBackend with 4 concurrent workers.\n"
     ]
    },
    {
     "name": "stdout",
     "output_type": "stream",
     "text": [
      "Batch nr: 15 of 20\n",
      "building tree 1 of 13\n",
      "building tree 2 of 13\n",
      "building tree 3 of 13\n",
      "building tree 4 of 13\n",
      "building tree 5 of 13\n",
      "building tree 6 of 13\n",
      "building tree 7 of 13\n",
      "building tree 8 of 13\n",
      "building tree 9 of 13\n",
      "building tree 10 of 13\n",
      "building tree 11 of 13\n",
      "building tree 12 of 13\n",
      "building tree 13 of 13\n"
     ]
    },
    {
     "name": "stderr",
     "output_type": "stream",
     "text": [
      "[Parallel(n_jobs=4)]: Done  13 out of  13 | elapsed:    0.0s remaining:    0.0s\n",
      "[Parallel(n_jobs=4)]: Done  13 out of  13 | elapsed:    0.0s finished\n"
     ]
    },
    {
     "name": "stdout",
     "output_type": "stream",
     "text": [
      "Batch nr: 16 of 20\n"
     ]
    },
    {
     "name": "stderr",
     "output_type": "stream",
     "text": [
      "[Parallel(n_jobs=4)]: Using backend ThreadingBackend with 4 concurrent workers.\n"
     ]
    },
    {
     "name": "stdout",
     "output_type": "stream",
     "text": [
      "building tree 1 of 13building tree 2 of 13\n",
      "\n",
      "building tree 3 of 13\n",
      "building tree 4 of 13\n",
      "building tree 5 of 13building tree 6 of 13\n",
      "\n",
      "building tree 7 of 13\n",
      "building tree 8 of 13\n",
      "building tree 9 of 13\n",
      "building tree 10 of 13\n",
      "building tree 11 of 13\n",
      "building tree 12 of 13\n",
      "building tree 13 of 13\n"
     ]
    },
    {
     "name": "stderr",
     "output_type": "stream",
     "text": [
      "[Parallel(n_jobs=4)]: Done  13 out of  13 | elapsed:    1.1s remaining:    0.0s\n",
      "[Parallel(n_jobs=4)]: Done  13 out of  13 | elapsed:    1.1s finished\n",
      "[Parallel(n_jobs=4)]: Using backend ThreadingBackend with 4 concurrent workers.\n",
      "[Parallel(n_jobs=4)]: Done  33 tasks      | elapsed:    0.0s\n",
      "[Parallel(n_jobs=4)]: Done 154 tasks      | elapsed:    0.2s\n",
      "[Parallel(n_jobs=4)]: Done 208 out of 208 | elapsed:    0.3s finished\n"
     ]
    },
    {
     "name": "stdout",
     "output_type": "stream",
     "text": [
      "Number Fold:  [4]  of  [5]\n",
      "Batch nr: 1 of 20\n"
     ]
    },
    {
     "name": "stderr",
     "output_type": "stream",
     "text": [
      "[Parallel(n_jobs=4)]: Using backend ThreadingBackend with 4 concurrent workers.\n"
     ]
    },
    {
     "name": "stdout",
     "output_type": "stream",
     "text": [
      "building tree 1 of 13building tree 2 of 13\n",
      "\n",
      "building tree 3 of 13\n",
      "building tree 4 of 13\n",
      "building tree 5 of 13\n",
      "building tree 6 of 13\n",
      "building tree 7 of 13\n",
      "building tree 8 of 13\n",
      "building tree 9 of 13\n",
      "building tree 10 of 13\n",
      "building tree 11 of 13\n",
      "building tree 12 of 13\n",
      "building tree 13 of 13\n"
     ]
    },
    {
     "name": "stderr",
     "output_type": "stream",
     "text": [
      "[Parallel(n_jobs=4)]: Done  13 out of  13 | elapsed:    1.6s remaining:    0.0s\n",
      "[Parallel(n_jobs=4)]: Done  13 out of  13 | elapsed:    1.6s finished\n"
     ]
    },
    {
     "name": "stdout",
     "output_type": "stream",
     "text": [
      "Batch nr: 2 of 20\n"
     ]
    },
    {
     "name": "stderr",
     "output_type": "stream",
     "text": [
      "[Parallel(n_jobs=4)]: Using backend ThreadingBackend with 4 concurrent workers.\n"
     ]
    },
    {
     "name": "stdout",
     "output_type": "stream",
     "text": [
      "building tree 1 of 13building tree 2 of 13\n",
      "building tree 3 of 13\n",
      "\n",
      "building tree 4 of 13\n",
      "building tree 5 of 13\n",
      "building tree 6 of 13\n",
      "building tree 7 of 13\n",
      "building tree 8 of 13\n",
      "building tree 9 of 13\n",
      "building tree 10 of 13\n",
      "building tree 11 of 13\n",
      "building tree 12 of 13\n",
      "building tree 13 of 13\n"
     ]
    },
    {
     "name": "stderr",
     "output_type": "stream",
     "text": [
      "[Parallel(n_jobs=4)]: Done  13 out of  13 | elapsed:    1.5s remaining:    0.0s\n",
      "[Parallel(n_jobs=4)]: Done  13 out of  13 | elapsed:    1.5s finished\n",
      "[Parallel(n_jobs=4)]: Using backend ThreadingBackend with 4 concurrent workers.\n",
      "[Parallel(n_jobs=4)]: Done  13 out of  13 | elapsed:    0.0s remaining:    0.0s\n",
      "[Parallel(n_jobs=4)]: Done  13 out of  13 | elapsed:    0.0s finished\n"
     ]
    },
    {
     "name": "stdout",
     "output_type": "stream",
     "text": [
      "Batch nr: 3 of 20\n",
      "building tree 1 of 13\n",
      "building tree 2 of 13\n",
      "building tree 3 of 13\n",
      "building tree 4 of 13\n",
      "building tree 5 of 13\n",
      "building tree 6 of 13\n",
      "building tree 7 of 13\n",
      "building tree 8 of 13\n",
      "building tree 9 of 13\n",
      "building tree 10 of 13\n",
      "building tree 11 of 13\n",
      "building tree 12 of 13\n",
      "building tree 13 of 13\n",
      "Batch nr: 4 of 20\n"
     ]
    },
    {
     "name": "stderr",
     "output_type": "stream",
     "text": [
      "[Parallel(n_jobs=4)]: Using backend ThreadingBackend with 4 concurrent workers.\n"
     ]
    },
    {
     "name": "stdout",
     "output_type": "stream",
     "text": [
      "building tree 1 of 13\n",
      "building tree 2 of 13\n",
      "building tree 3 of 13\n",
      "building tree 4 of 13\n",
      "building tree 5 of 13\n",
      "building tree 6 of 13\n",
      "building tree 7 of 13\n",
      "building tree 8 of 13\n",
      "building tree 9 of 13\n",
      "building tree 10 of 13\n",
      "building tree 11 of 13\n",
      "building tree 12 of 13\n",
      "building tree 13 of 13\n"
     ]
    },
    {
     "name": "stderr",
     "output_type": "stream",
     "text": [
      "[Parallel(n_jobs=4)]: Done  13 out of  13 | elapsed:   11.8s remaining:    0.0s\n",
      "[Parallel(n_jobs=4)]: Done  13 out of  13 | elapsed:   11.8s finished\n",
      "[Parallel(n_jobs=4)]: Using backend ThreadingBackend with 4 concurrent workers.\n"
     ]
    },
    {
     "name": "stdout",
     "output_type": "stream",
     "text": [
      "Batch nr: 5 of 20\n",
      "building tree 1 of 13\n",
      "building tree 2 of 13\n",
      "building tree 3 of 13\n",
      "building tree 4 of 13\n",
      "building tree 5 of 13\n",
      "building tree 6 of 13\n",
      "building tree 7 of 13\n",
      "building tree 8 of 13\n",
      "building tree 9 of 13\n",
      "building tree 10 of 13\n",
      "building tree 11 of 13\n",
      "building tree 12 of 13\n",
      "building tree 13 of 13\n"
     ]
    },
    {
     "name": "stderr",
     "output_type": "stream",
     "text": [
      "[Parallel(n_jobs=4)]: Done  13 out of  13 | elapsed:    0.2s remaining:    0.0s\n",
      "[Parallel(n_jobs=4)]: Done  13 out of  13 | elapsed:    0.2s finished\n"
     ]
    },
    {
     "name": "stdout",
     "output_type": "stream",
     "text": [
      "Batch nr: 6 of 20\n"
     ]
    },
    {
     "name": "stderr",
     "output_type": "stream",
     "text": [
      "[Parallel(n_jobs=4)]: Using backend ThreadingBackend with 4 concurrent workers.\n"
     ]
    },
    {
     "name": "stdout",
     "output_type": "stream",
     "text": [
      "building tree 1 of 13building tree 2 of 13\n",
      "\n",
      "building tree 3 of 13\n",
      "building tree 4 of 13\n",
      "building tree 5 of 13\n",
      "building tree 6 of 13\n",
      "building tree 7 of 13\n",
      "building tree 8 of 13\n",
      "building tree 9 of 13\n",
      "building tree 10 of 13\n",
      "building tree 11 of 13\n",
      "building tree 12 of 13\n",
      "building tree 13 of 13\n"
     ]
    },
    {
     "name": "stderr",
     "output_type": "stream",
     "text": [
      "[Parallel(n_jobs=4)]: Done  13 out of  13 | elapsed:    1.1s remaining:    0.0s\n",
      "[Parallel(n_jobs=4)]: Done  13 out of  13 | elapsed:    1.1s finished\n",
      "[Parallel(n_jobs=4)]: Using backend ThreadingBackend with 4 concurrent workers.\n"
     ]
    },
    {
     "name": "stdout",
     "output_type": "stream",
     "text": [
      "Batch nr: 7 of 20\n",
      "building tree 1 of 13\n",
      "building tree 2 of 13\n",
      "building tree 3 of 13\n",
      "building tree 4 of 13\n",
      "building tree 5 of 13\n",
      "building tree 6 of 13\n",
      "building tree 7 of 13\n",
      "building tree 8 of 13\n",
      "building tree 9 of 13\n",
      "building tree 10 of 13\n",
      "building tree 11 of 13\n",
      "building tree 12 of 13\n",
      "building tree 13 of 13\n",
      "Batch nr: 8 of 20\n"
     ]
    },
    {
     "name": "stderr",
     "output_type": "stream",
     "text": [
      "[Parallel(n_jobs=4)]: Done  13 out of  13 | elapsed:    0.3s remaining:    0.0s\n",
      "[Parallel(n_jobs=4)]: Done  13 out of  13 | elapsed:    0.3s finished\n",
      "[Parallel(n_jobs=4)]: Using backend ThreadingBackend with 4 concurrent workers.\n"
     ]
    },
    {
     "name": "stdout",
     "output_type": "stream",
     "text": [
      "building tree 1 of 13building tree 2 of 13\n",
      "building tree 3 of 13\n",
      "building tree 4 of 13\n",
      "\n",
      "building tree 5 of 13\n",
      "building tree 6 of 13\n",
      "building tree 7 of 13\n",
      "building tree 8 of 13\n",
      "building tree 9 of 13\n",
      "building tree 10 of 13\n",
      "building tree 11 of 13\n",
      "building tree 12 of 13\n",
      "building tree 13 of 13\n"
     ]
    },
    {
     "name": "stderr",
     "output_type": "stream",
     "text": [
      "[Parallel(n_jobs=4)]: Done  13 out of  13 | elapsed:    0.8s remaining:    0.0s\n",
      "[Parallel(n_jobs=4)]: Done  13 out of  13 | elapsed:    0.8s finished\n"
     ]
    },
    {
     "name": "stdout",
     "output_type": "stream",
     "text": [
      "Batch nr: 9 of 20\n"
     ]
    },
    {
     "name": "stderr",
     "output_type": "stream",
     "text": [
      "[Parallel(n_jobs=4)]: Using backend ThreadingBackend with 4 concurrent workers.\n"
     ]
    },
    {
     "name": "stdout",
     "output_type": "stream",
     "text": [
      "building tree 1 of 13building tree 2 of 13\n",
      "\n",
      "building tree 3 of 13\n",
      "building tree 4 of 13\n",
      "building tree 5 of 13\n",
      "building tree 6 of 13\n",
      "building tree 7 of 13\n",
      "building tree 8 of 13\n",
      "building tree 9 of 13\n",
      "building tree 10 of 13\n",
      "building tree 11 of 13\n",
      "building tree 12 of 13\n",
      "building tree 13 of 13\n"
     ]
    },
    {
     "name": "stderr",
     "output_type": "stream",
     "text": [
      "[Parallel(n_jobs=4)]: Done  13 out of  13 | elapsed:    0.8s remaining:    0.0s\n",
      "[Parallel(n_jobs=4)]: Done  13 out of  13 | elapsed:    0.8s finished\n"
     ]
    },
    {
     "name": "stdout",
     "output_type": "stream",
     "text": [
      "Batch nr: 10 of 20\n"
     ]
    },
    {
     "name": "stderr",
     "output_type": "stream",
     "text": [
      "[Parallel(n_jobs=4)]: Using backend ThreadingBackend with 4 concurrent workers.\n"
     ]
    },
    {
     "name": "stdout",
     "output_type": "stream",
     "text": [
      "building tree 1 of 13building tree 2 of 13\n",
      "building tree 3 of 13\n",
      "\n",
      "building tree 4 of 13\n",
      "building tree 5 of 13\n",
      "building tree 6 of 13\n",
      "building tree 7 of 13\n",
      "building tree 8 of 13\n",
      "building tree 9 of 13\n",
      "building tree 10 of 13\n",
      "building tree 11 of 13\n",
      "building tree 12 of 13\n",
      "building tree 13 of 13\n"
     ]
    },
    {
     "name": "stderr",
     "output_type": "stream",
     "text": [
      "[Parallel(n_jobs=4)]: Done  13 out of  13 | elapsed:    1.2s remaining:    0.0s\n",
      "[Parallel(n_jobs=4)]: Done  13 out of  13 | elapsed:    1.2s finished\n"
     ]
    },
    {
     "name": "stdout",
     "output_type": "stream",
     "text": [
      "Batch nr: 11 of 20\n"
     ]
    },
    {
     "name": "stderr",
     "output_type": "stream",
     "text": [
      "[Parallel(n_jobs=4)]: Using backend ThreadingBackend with 4 concurrent workers.\n"
     ]
    },
    {
     "name": "stdout",
     "output_type": "stream",
     "text": [
      "building tree 1 of 13building tree 2 of 13\n",
      "building tree 3 of 13\n",
      "\n",
      "building tree 4 of 13\n",
      "building tree 5 of 13building tree 6 of 13\n",
      "\n",
      "building tree 7 of 13\n",
      "building tree 8 of 13\n",
      "building tree 9 of 13\n",
      "building tree 10 of 13\n",
      "building tree 11 of 13\n",
      "building tree 12 of 13\n",
      "building tree 13 of 13\n"
     ]
    },
    {
     "name": "stderr",
     "output_type": "stream",
     "text": [
      "[Parallel(n_jobs=4)]: Done  13 out of  13 | elapsed:    2.1s remaining:    0.0s\n",
      "[Parallel(n_jobs=4)]: Done  13 out of  13 | elapsed:    2.1s finished\n",
      "[Parallel(n_jobs=4)]: Using backend ThreadingBackend with 4 concurrent workers.\n",
      "[Parallel(n_jobs=4)]: Done  13 out of  13 | elapsed:    0.0s remaining:    0.0s\n",
      "[Parallel(n_jobs=4)]: Done  13 out of  13 | elapsed:    0.0s finished\n"
     ]
    },
    {
     "name": "stdout",
     "output_type": "stream",
     "text": [
      "Batch nr: 12 of 20\n",
      "building tree 1 of 13\n",
      "building tree 2 of 13\n",
      "building tree 3 of 13\n",
      "building tree 4 of 13\n",
      "building tree 5 of 13\n",
      "building tree 6 of 13\n",
      "building tree 7 of 13\n",
      "building tree 8 of 13\n",
      "building tree 9 of 13\n",
      "building tree 10 of 13\n",
      "building tree 11 of 13\n",
      "building tree 12 of 13\n",
      "building tree 13 of 13\n",
      "Batch nr: 13 of 20\n"
     ]
    },
    {
     "name": "stderr",
     "output_type": "stream",
     "text": [
      "[Parallel(n_jobs=4)]: Using backend ThreadingBackend with 4 concurrent workers.\n",
      "[Parallel(n_jobs=4)]: Done  13 out of  13 | elapsed:    0.1s remaining:    0.0s\n",
      "[Parallel(n_jobs=4)]: Done  13 out of  13 | elapsed:    0.1s finished\n"
     ]
    },
    {
     "name": "stdout",
     "output_type": "stream",
     "text": [
      "building tree 1 of 13building tree 2 of 13\n",
      "building tree 3 of 13\n",
      "\n",
      "building tree 4 of 13\n",
      "building tree 5 of 13\n",
      "building tree 6 of 13\n",
      "building tree 7 of 13\n",
      "building tree 8 of 13\n",
      "building tree 9 of 13\n",
      "building tree 10 of 13\n",
      "building tree 11 of 13\n",
      "building tree 12 of 13\n",
      "building tree 13 of 13\n",
      "Batch nr: 14 of 20\n"
     ]
    },
    {
     "name": "stderr",
     "output_type": "stream",
     "text": [
      "[Parallel(n_jobs=4)]: Using backend ThreadingBackend with 4 concurrent workers.\n"
     ]
    },
    {
     "name": "stdout",
     "output_type": "stream",
     "text": [
      "building tree 1 of 13building tree 2 of 13\n",
      "building tree 3 of 13\n",
      "\n",
      "building tree 4 of 13\n",
      "building tree 5 of 13building tree 6 of 13\n",
      "\n",
      "building tree 7 of 13\n",
      "building tree 8 of 13\n",
      "building tree 9 of 13\n",
      "building tree 10 of 13\n",
      "building tree 11 of 13\n",
      "building tree 12 of 13\n",
      "building tree 13 of 13\n"
     ]
    },
    {
     "name": "stderr",
     "output_type": "stream",
     "text": [
      "[Parallel(n_jobs=4)]: Done  13 out of  13 | elapsed:    1.5s remaining:    0.0s\n",
      "[Parallel(n_jobs=4)]: Done  13 out of  13 | elapsed:    1.5s finished\n",
      "[Parallel(n_jobs=4)]: Using backend ThreadingBackend with 4 concurrent workers.\n"
     ]
    },
    {
     "name": "stdout",
     "output_type": "stream",
     "text": [
      "Batch nr: 15 of 20\n",
      "building tree 1 of 13\n",
      "building tree 2 of 13\n",
      "building tree 3 of 13\n",
      "building tree 4 of 13\n",
      "building tree 5 of 13\n",
      "building tree 6 of 13\n",
      "building tree 7 of 13\n",
      "building tree 8 of 13\n",
      "building tree 9 of 13\n",
      "building tree 10 of 13\n",
      "building tree 11 of 13\n",
      "building tree 12 of 13\n",
      "building tree 13 of 13\n",
      "Batch nr: 16 of 20\n"
     ]
    },
    {
     "name": "stderr",
     "output_type": "stream",
     "text": [
      "[Parallel(n_jobs=4)]: Done  13 out of  13 | elapsed:    0.1s remaining:    0.0s\n",
      "[Parallel(n_jobs=4)]: Done  13 out of  13 | elapsed:    0.1s finished\n",
      "[Parallel(n_jobs=4)]: Using backend ThreadingBackend with 4 concurrent workers.\n"
     ]
    },
    {
     "name": "stdout",
     "output_type": "stream",
     "text": [
      "building tree 1 of 13\n",
      "building tree 2 of 13\n",
      "building tree 3 of 13\n",
      "building tree 4 of 13\n",
      "building tree 5 of 13building tree 6 of 13\n",
      "\n",
      "building tree 7 of 13\n",
      "building tree 8 of 13\n",
      "building tree 9 of 13building tree 10 of 13\n",
      "\n",
      "building tree 11 of 13\n",
      "building tree 12 of 13\n",
      "building tree 13 of 13\n"
     ]
    },
    {
     "name": "stderr",
     "output_type": "stream",
     "text": [
      "[Parallel(n_jobs=4)]: Done  13 out of  13 | elapsed:    1.1s remaining:    0.0s\n",
      "[Parallel(n_jobs=4)]: Done  13 out of  13 | elapsed:    1.2s finished\n",
      "[Parallel(n_jobs=4)]: Using backend ThreadingBackend with 4 concurrent workers.\n",
      "[Parallel(n_jobs=4)]: Done  33 tasks      | elapsed:    0.0s\n",
      "[Parallel(n_jobs=4)]: Done 154 tasks      | elapsed:    0.2s\n",
      "[Parallel(n_jobs=4)]: Done 208 out of 208 | elapsed:    0.3s finished\n"
     ]
    },
    {
     "name": "stdout",
     "output_type": "stream",
     "text": [
      "Batch nr: 1 of 20\n"
     ]
    },
    {
     "name": "stderr",
     "output_type": "stream",
     "text": [
      "[Parallel(n_jobs=4)]: Using backend ThreadingBackend with 4 concurrent workers.\n"
     ]
    },
    {
     "name": "stdout",
     "output_type": "stream",
     "text": [
      "building tree 1 of 13building tree 2 of 13\n",
      "building tree 3 of 13\n",
      "building tree 4 of 13\n",
      "\n",
      "building tree 5 of 13\n",
      "building tree 6 of 13\n",
      "building tree 7 of 13\n",
      "building tree 8 of 13\n",
      "building tree 9 of 13\n",
      "building tree 10 of 13\n",
      "building tree 11 of 13\n",
      "building tree 12 of 13\n",
      "building tree 13 of 13\n"
     ]
    },
    {
     "name": "stderr",
     "output_type": "stream",
     "text": [
      "[Parallel(n_jobs=4)]: Done  13 out of  13 | elapsed:    1.5s remaining:    0.0s\n",
      "[Parallel(n_jobs=4)]: Done  13 out of  13 | elapsed:    1.5s finished\n"
     ]
    },
    {
     "name": "stdout",
     "output_type": "stream",
     "text": [
      "Batch nr: 2 of 20\n"
     ]
    },
    {
     "name": "stderr",
     "output_type": "stream",
     "text": [
      "[Parallel(n_jobs=4)]: Using backend ThreadingBackend with 4 concurrent workers.\n"
     ]
    },
    {
     "name": "stdout",
     "output_type": "stream",
     "text": [
      "building tree 1 of 13building tree 2 of 13\n",
      "building tree 3 of 13\n",
      "\n",
      "building tree 4 of 13\n",
      "building tree 5 of 13\n",
      "building tree 6 of 13\n",
      "building tree 7 of 13\n",
      "building tree 8 of 13\n",
      "building tree 9 of 13\n",
      "building tree 10 of 13\n",
      "building tree 11 of 13\n",
      "building tree 12 of 13\n",
      "building tree 13 of 13\n"
     ]
    },
    {
     "name": "stderr",
     "output_type": "stream",
     "text": [
      "[Parallel(n_jobs=4)]: Done  13 out of  13 | elapsed:    1.3s remaining:    0.0s\n",
      "[Parallel(n_jobs=4)]: Done  13 out of  13 | elapsed:    1.3s finished\n",
      "[Parallel(n_jobs=4)]: Using backend ThreadingBackend with 4 concurrent workers.\n",
      "[Parallel(n_jobs=4)]: Done  13 out of  13 | elapsed:    0.0s remaining:    0.0s\n",
      "[Parallel(n_jobs=4)]: Done  13 out of  13 | elapsed:    0.0s finished\n"
     ]
    },
    {
     "name": "stdout",
     "output_type": "stream",
     "text": [
      "Batch nr: 3 of 20\n",
      "building tree 1 of 13\n",
      "building tree 2 of 13\n",
      "building tree 3 of 13\n",
      "building tree 4 of 13\n",
      "building tree 5 of 13\n",
      "building tree 6 of 13\n",
      "building tree 7 of 13\n",
      "building tree 8 of 13\n",
      "building tree 9 of 13\n",
      "building tree 10 of 13\n",
      "building tree 11 of 13\n",
      "building tree 12 of 13\n",
      "building tree 13 of 13\n",
      "Batch nr: 4 of 20\n"
     ]
    },
    {
     "name": "stderr",
     "output_type": "stream",
     "text": [
      "[Parallel(n_jobs=4)]: Using backend ThreadingBackend with 4 concurrent workers.\n"
     ]
    },
    {
     "name": "stdout",
     "output_type": "stream",
     "text": [
      "building tree 1 of 13building tree 2 of 13\n",
      "building tree 3 of 13\n",
      "\n",
      "building tree 4 of 13\n",
      "building tree 5 of 13\n",
      "building tree 6 of 13\n",
      "building tree 7 of 13\n",
      "building tree 8 of 13\n",
      "building tree 9 of 13\n",
      "building tree 10 of 13\n",
      "building tree 11 of 13\n",
      "building tree 12 of 13\n",
      "building tree 13 of 13\n"
     ]
    },
    {
     "name": "stderr",
     "output_type": "stream",
     "text": [
      "[Parallel(n_jobs=4)]: Done  13 out of  13 | elapsed:   12.5s remaining:    0.0s\n",
      "[Parallel(n_jobs=4)]: Done  13 out of  13 | elapsed:   12.5s finished\n",
      "[Parallel(n_jobs=4)]: Using backend ThreadingBackend with 4 concurrent workers.\n"
     ]
    },
    {
     "name": "stdout",
     "output_type": "stream",
     "text": [
      "Batch nr: 5 of 20\n",
      "building tree 1 of 13\n",
      "building tree 2 of 13\n",
      "building tree 3 of 13\n",
      "building tree 4 of 13\n",
      "building tree 5 of 13building tree 6 of 13\n",
      "\n",
      "building tree 7 of 13\n",
      "building tree 8 of 13\n",
      "building tree 9 of 13\n",
      "building tree 10 of 13\n",
      "building tree 11 of 13\n",
      "building tree 12 of 13\n",
      "building tree 13 of 13\n"
     ]
    },
    {
     "name": "stderr",
     "output_type": "stream",
     "text": [
      "[Parallel(n_jobs=4)]: Done  13 out of  13 | elapsed:    0.2s remaining:    0.0s\n",
      "[Parallel(n_jobs=4)]: Done  13 out of  13 | elapsed:    0.2s finished\n"
     ]
    },
    {
     "name": "stdout",
     "output_type": "stream",
     "text": [
      "Batch nr: 6 of 20\n"
     ]
    },
    {
     "name": "stderr",
     "output_type": "stream",
     "text": [
      "[Parallel(n_jobs=4)]: Using backend ThreadingBackend with 4 concurrent workers.\n"
     ]
    },
    {
     "name": "stdout",
     "output_type": "stream",
     "text": [
      "building tree 2 of 13building tree 3 of 13\n",
      "building tree 1 of 13\n",
      "\n",
      "building tree 4 of 13\n",
      "building tree 5 of 13\n",
      "building tree 6 of 13\n",
      "building tree 7 of 13\n",
      "building tree 8 of 13\n",
      "building tree 9 of 13\n",
      "building tree 10 of 13\n",
      "building tree 11 of 13\n",
      "building tree 12 of 13\n",
      "building tree 13 of 13\n"
     ]
    },
    {
     "name": "stderr",
     "output_type": "stream",
     "text": [
      "[Parallel(n_jobs=4)]: Done  13 out of  13 | elapsed:    1.1s remaining:    0.0s\n",
      "[Parallel(n_jobs=4)]: Done  13 out of  13 | elapsed:    1.1s finished\n"
     ]
    },
    {
     "name": "stdout",
     "output_type": "stream",
     "text": [
      "Batch nr: 7 of 20\n"
     ]
    },
    {
     "name": "stderr",
     "output_type": "stream",
     "text": [
      "[Parallel(n_jobs=4)]: Using backend ThreadingBackend with 4 concurrent workers.\n"
     ]
    },
    {
     "name": "stdout",
     "output_type": "stream",
     "text": [
      "building tree 1 of 13building tree 2 of 13\n",
      "\n",
      "building tree 3 of 13\n",
      "building tree 4 of 13\n",
      "building tree 5 of 13\n",
      "building tree 6 of 13\n",
      "building tree 7 of 13\n",
      "building tree 8 of 13\n",
      "building tree 9 of 13\n",
      "building tree 10 of 13\n",
      "building tree 11 of 13building tree 12 of 13\n",
      "\n",
      "building tree 13 of 13\n",
      "Batch nr: 8 of 20\n"
     ]
    },
    {
     "name": "stderr",
     "output_type": "stream",
     "text": [
      "[Parallel(n_jobs=4)]: Done  13 out of  13 | elapsed:    0.3s remaining:    0.0s\n",
      "[Parallel(n_jobs=4)]: Done  13 out of  13 | elapsed:    0.3s finished\n",
      "[Parallel(n_jobs=4)]: Using backend ThreadingBackend with 4 concurrent workers.\n"
     ]
    },
    {
     "name": "stdout",
     "output_type": "stream",
     "text": [
      "building tree 1 of 13building tree 2 of 13\n",
      "\n",
      "building tree 3 of 13\n",
      "building tree 4 of 13\n",
      "building tree 5 of 13building tree 6 of 13\n",
      "\n",
      "building tree 7 of 13\n",
      "building tree 8 of 13\n",
      "building tree 9 of 13building tree 10 of 13\n",
      "\n",
      "building tree 11 of 13\n",
      "building tree 12 of 13\n",
      "building tree 13 of 13\n"
     ]
    },
    {
     "name": "stderr",
     "output_type": "stream",
     "text": [
      "[Parallel(n_jobs=4)]: Done  13 out of  13 | elapsed:    0.9s remaining:    0.0s\n",
      "[Parallel(n_jobs=4)]: Done  13 out of  13 | elapsed:    0.9s finished\n"
     ]
    },
    {
     "name": "stdout",
     "output_type": "stream",
     "text": [
      "Batch nr: 9 of 20\n"
     ]
    },
    {
     "name": "stderr",
     "output_type": "stream",
     "text": [
      "[Parallel(n_jobs=4)]: Using backend ThreadingBackend with 4 concurrent workers.\n"
     ]
    },
    {
     "name": "stdout",
     "output_type": "stream",
     "text": [
      "building tree 1 of 13\n",
      "building tree 2 of 13\n",
      "building tree 3 of 13\n",
      "building tree 4 of 13\n",
      "building tree 5 of 13\n",
      "building tree 6 of 13\n",
      "building tree 7 of 13\n",
      "building tree 8 of 13\n",
      "building tree 9 of 13\n",
      "building tree 10 of 13\n",
      "building tree 11 of 13\n",
      "building tree 12 of 13\n",
      "building tree 13 of 13\n"
     ]
    },
    {
     "name": "stderr",
     "output_type": "stream",
     "text": [
      "[Parallel(n_jobs=4)]: Done  13 out of  13 | elapsed:    0.6s remaining:    0.0s\n",
      "[Parallel(n_jobs=4)]: Done  13 out of  13 | elapsed:    0.7s finished\n"
     ]
    },
    {
     "name": "stdout",
     "output_type": "stream",
     "text": [
      "Batch nr: 10 of 20\n"
     ]
    },
    {
     "name": "stderr",
     "output_type": "stream",
     "text": [
      "[Parallel(n_jobs=4)]: Using backend ThreadingBackend with 4 concurrent workers.\n"
     ]
    },
    {
     "name": "stdout",
     "output_type": "stream",
     "text": [
      "building tree 1 of 13building tree 2 of 13\n",
      "building tree 3 of 13\n",
      "building tree 4 of 13\n",
      "\n",
      "building tree 5 of 13\n",
      "building tree 6 of 13\n",
      "building tree 7 of 13\n",
      "building tree 8 of 13\n",
      "building tree 9 of 13\n",
      "building tree 10 of 13\n",
      "building tree 11 of 13\n",
      "building tree 12 of 13\n",
      "building tree 13 of 13\n"
     ]
    },
    {
     "name": "stderr",
     "output_type": "stream",
     "text": [
      "[Parallel(n_jobs=4)]: Done  13 out of  13 | elapsed:    1.2s remaining:    0.0s\n",
      "[Parallel(n_jobs=4)]: Done  13 out of  13 | elapsed:    1.2s finished\n"
     ]
    },
    {
     "name": "stdout",
     "output_type": "stream",
     "text": [
      "Batch nr: 11 of 20\n"
     ]
    },
    {
     "name": "stderr",
     "output_type": "stream",
     "text": [
      "[Parallel(n_jobs=4)]: Using backend ThreadingBackend with 4 concurrent workers.\n"
     ]
    },
    {
     "name": "stdout",
     "output_type": "stream",
     "text": [
      "building tree 1 of 13\n",
      "building tree 2 of 13\n",
      "building tree 3 of 13\n",
      "building tree 4 of 13\n",
      "building tree 5 of 13\n",
      "building tree 6 of 13\n",
      "building tree 7 of 13\n",
      "building tree 8 of 13\n",
      "building tree 9 of 13\n",
      "building tree 10 of 13\n",
      "building tree 11 of 13\n",
      "building tree 12 of 13\n",
      "building tree 13 of 13\n"
     ]
    },
    {
     "name": "stderr",
     "output_type": "stream",
     "text": [
      "[Parallel(n_jobs=4)]: Done  13 out of  13 | elapsed:    2.2s remaining:    0.0s\n",
      "[Parallel(n_jobs=4)]: Done  13 out of  13 | elapsed:    2.2s finished\n",
      "[Parallel(n_jobs=4)]: Using backend ThreadingBackend with 4 concurrent workers.\n",
      "[Parallel(n_jobs=4)]: Done  13 out of  13 | elapsed:    0.0s remaining:    0.0s\n",
      "[Parallel(n_jobs=4)]: Done  13 out of  13 | elapsed:    0.0s finished\n",
      "[Parallel(n_jobs=4)]: Using backend ThreadingBackend with 4 concurrent workers.\n"
     ]
    },
    {
     "name": "stdout",
     "output_type": "stream",
     "text": [
      "Batch nr: 12 of 20\n",
      "building tree 1 of 13\n",
      "building tree 2 of 13\n",
      "building tree 3 of 13\n",
      "building tree 4 of 13\n",
      "building tree 5 of 13\n",
      "building tree 6 of 13\n",
      "building tree 7 of 13\n",
      "building tree 8 of 13\n",
      "building tree 9 of 13\n",
      "building tree 10 of 13\n",
      "building tree 11 of 13\n",
      "building tree 12 of 13\n",
      "building tree 13 of 13\n",
      "Batch nr: 13 of 20\n",
      "building tree 1 of 13\n",
      "building tree 2 of 13\n",
      "building tree 3 of 13\n",
      "building tree 4 of 13\n",
      "building tree 5 of 13\n",
      "building tree 6 of 13\n",
      "building tree 7 of 13\n",
      "building tree 8 of 13\n",
      "building tree 9 of 13\n",
      "building tree 10 of 13\n",
      "building tree 11 of 13\n",
      "building tree 12 of 13\n",
      "building tree 13 of 13\n",
      "Batch nr: 14 of 20\n"
     ]
    },
    {
     "name": "stderr",
     "output_type": "stream",
     "text": [
      "[Parallel(n_jobs=4)]: Done  13 out of  13 | elapsed:    0.1s remaining:    0.0s\n",
      "[Parallel(n_jobs=4)]: Done  13 out of  13 | elapsed:    0.1s finished\n",
      "[Parallel(n_jobs=4)]: Using backend ThreadingBackend with 4 concurrent workers.\n"
     ]
    },
    {
     "name": "stdout",
     "output_type": "stream",
     "text": [
      "building tree 1 of 13building tree 2 of 13\n",
      "building tree 3 of 13\n",
      "\n",
      "building tree 4 of 13\n",
      "building tree 5 of 13\n",
      "building tree 6 of 13\n",
      "building tree 7 of 13\n",
      "building tree 8 of 13\n",
      "building tree 9 of 13\n",
      "building tree 10 of 13\n",
      "building tree 11 of 13\n",
      "building tree 12 of 13\n",
      "building tree 13 of 13\n"
     ]
    },
    {
     "name": "stderr",
     "output_type": "stream",
     "text": [
      "[Parallel(n_jobs=4)]: Done  13 out of  13 | elapsed:    1.4s remaining:    0.0s\n",
      "[Parallel(n_jobs=4)]: Done  13 out of  13 | elapsed:    1.4s finished\n",
      "[Parallel(n_jobs=4)]: Using backend ThreadingBackend with 4 concurrent workers.\n"
     ]
    },
    {
     "name": "stdout",
     "output_type": "stream",
     "text": [
      "Batch nr: 15 of 20\n",
      "building tree 1 of 13\n",
      "building tree 2 of 13\n",
      "building tree 3 of 13\n",
      "building tree 4 of 13\n",
      "building tree 5 of 13\n",
      "building tree 6 of 13\n",
      "building tree 7 of 13\n",
      "building tree 8 of 13\n",
      "building tree 9 of 13\n",
      "building tree 10 of 13\n",
      "building tree 11 of 13\n",
      "building tree 12 of 13\n",
      "building tree 13 of 13\n"
     ]
    },
    {
     "name": "stderr",
     "output_type": "stream",
     "text": [
      "[Parallel(n_jobs=4)]: Done  13 out of  13 | elapsed:    0.0s remaining:    0.0s\n",
      "[Parallel(n_jobs=4)]: Done  13 out of  13 | elapsed:    0.0s finished\n"
     ]
    },
    {
     "name": "stdout",
     "output_type": "stream",
     "text": [
      "Batch nr: 16 of 20\n"
     ]
    },
    {
     "name": "stderr",
     "output_type": "stream",
     "text": [
      "[Parallel(n_jobs=4)]: Using backend ThreadingBackend with 4 concurrent workers.\n"
     ]
    },
    {
     "name": "stdout",
     "output_type": "stream",
     "text": [
      "building tree 1 of 13\n",
      "building tree 2 of 13\n",
      "building tree 3 of 13\n",
      "building tree 4 of 13\n",
      "building tree 5 of 13\n",
      "building tree 6 of 13\n",
      "building tree 7 of 13\n",
      "building tree 8 of 13\n",
      "building tree 9 of 13\n",
      "building tree 10 of 13\n",
      "building tree 11 of 13\n",
      "building tree 12 of 13\n",
      "building tree 13 of 13\n"
     ]
    },
    {
     "name": "stderr",
     "output_type": "stream",
     "text": [
      "[Parallel(n_jobs=4)]: Done  13 out of  13 | elapsed:    1.1s remaining:    0.0s\n",
      "[Parallel(n_jobs=4)]: Done  13 out of  13 | elapsed:    1.1s finished\n",
      "[Parallel(n_jobs=4)]: Using backend ThreadingBackend with 4 concurrent workers.\n",
      "[Parallel(n_jobs=4)]: Done  33 tasks      | elapsed:    0.0s\n",
      "[Parallel(n_jobs=4)]: Done 154 tasks      | elapsed:    0.2s\n",
      "[Parallel(n_jobs=4)]: Done 208 out of 208 | elapsed:    0.3s finished\n"
     ]
    },
    {
     "name": "stdout",
     "output_type": "stream",
     "text": [
      "Number Fold:  [5]  of  [5]\n",
      "Batch nr: 1 of 20\n"
     ]
    },
    {
     "name": "stderr",
     "output_type": "stream",
     "text": [
      "[Parallel(n_jobs=4)]: Using backend ThreadingBackend with 4 concurrent workers.\n"
     ]
    },
    {
     "name": "stdout",
     "output_type": "stream",
     "text": [
      "building tree 1 of 13building tree 2 of 13\n",
      "\n",
      "building tree 3 of 13\n",
      "building tree 4 of 13\n",
      "building tree 5 of 13\n",
      "building tree 6 of 13\n",
      "building tree 7 of 13\n",
      "building tree 8 of 13\n",
      "building tree 9 of 13\n",
      "building tree 10 of 13\n",
      "building tree 11 of 13\n",
      "building tree 12 of 13\n",
      "building tree 13 of 13\n"
     ]
    },
    {
     "name": "stderr",
     "output_type": "stream",
     "text": [
      "[Parallel(n_jobs=4)]: Done  13 out of  13 | elapsed:    1.6s remaining:    0.0s\n",
      "[Parallel(n_jobs=4)]: Done  13 out of  13 | elapsed:    1.6s finished\n"
     ]
    },
    {
     "name": "stdout",
     "output_type": "stream",
     "text": [
      "Batch nr: 2 of 20\n"
     ]
    },
    {
     "name": "stderr",
     "output_type": "stream",
     "text": [
      "[Parallel(n_jobs=4)]: Using backend ThreadingBackend with 4 concurrent workers.\n"
     ]
    },
    {
     "name": "stdout",
     "output_type": "stream",
     "text": [
      "building tree 1 of 13building tree 2 of 13\n",
      "building tree 3 of 13\n",
      "building tree 4 of 13\n",
      "\n",
      "building tree 5 of 13\n",
      "building tree 6 of 13\n",
      "building tree 7 of 13\n",
      "building tree 8 of 13\n",
      "building tree 9 of 13\n",
      "building tree 10 of 13\n",
      "building tree 11 of 13\n",
      "building tree 12 of 13\n",
      "building tree 13 of 13\n"
     ]
    },
    {
     "name": "stderr",
     "output_type": "stream",
     "text": [
      "[Parallel(n_jobs=4)]: Done  13 out of  13 | elapsed:    1.4s remaining:    0.0s\n",
      "[Parallel(n_jobs=4)]: Done  13 out of  13 | elapsed:    1.4s finished\n",
      "[Parallel(n_jobs=4)]: Using backend ThreadingBackend with 4 concurrent workers.\n"
     ]
    },
    {
     "name": "stdout",
     "output_type": "stream",
     "text": [
      "Batch nr: 3 of 20\n",
      "building tree 1 of 13\n",
      "building tree 2 of 13\n",
      "building tree 3 of 13\n",
      "building tree 4 of 13\n",
      "building tree 5 of 13\n",
      "building tree 6 of 13\n",
      "building tree 7 of 13\n",
      "building tree 8 of 13\n",
      "building tree 9 of 13\n",
      "building tree 10 of 13\n",
      "building tree 11 of 13building tree 12 of 13\n",
      "\n",
      "building tree 13 of 13\n",
      "Batch nr: 4 of 20\n"
     ]
    },
    {
     "name": "stderr",
     "output_type": "stream",
     "text": [
      "[Parallel(n_jobs=4)]: Done  13 out of  13 | elapsed:    0.0s remaining:    0.0s\n",
      "[Parallel(n_jobs=4)]: Done  13 out of  13 | elapsed:    0.0s finished\n",
      "[Parallel(n_jobs=4)]: Using backend ThreadingBackend with 4 concurrent workers.\n"
     ]
    },
    {
     "name": "stdout",
     "output_type": "stream",
     "text": [
      "building tree 1 of 13building tree 2 of 13\n",
      "building tree 3 of 13\n",
      "\n",
      "building tree 4 of 13\n",
      "building tree 5 of 13\n",
      "building tree 6 of 13\n",
      "building tree 7 of 13\n",
      "building tree 8 of 13\n",
      "building tree 9 of 13\n",
      "building tree 10 of 13\n",
      "building tree 11 of 13\n",
      "building tree 12 of 13\n",
      "building tree 13 of 13\n"
     ]
    },
    {
     "name": "stderr",
     "output_type": "stream",
     "text": [
      "[Parallel(n_jobs=4)]: Done  13 out of  13 | elapsed:   12.0s remaining:    0.0s\n",
      "[Parallel(n_jobs=4)]: Done  13 out of  13 | elapsed:   12.0s finished\n",
      "[Parallel(n_jobs=4)]: Using backend ThreadingBackend with 4 concurrent workers.\n"
     ]
    },
    {
     "name": "stdout",
     "output_type": "stream",
     "text": [
      "Batch nr: 5 of 20\n",
      "building tree 1 of 13\n",
      "building tree 2 of 13\n",
      "building tree 3 of 13\n",
      "building tree 4 of 13\n",
      "building tree 5 of 13\n",
      "building tree 6 of 13\n",
      "building tree 7 of 13\n",
      "building tree 8 of 13\n",
      "building tree 9 of 13\n",
      "building tree 10 of 13\n",
      "building tree 11 of 13\n",
      "building tree 12 of 13\n",
      "building tree 13 of 13\n"
     ]
    },
    {
     "name": "stderr",
     "output_type": "stream",
     "text": [
      "[Parallel(n_jobs=4)]: Done  13 out of  13 | elapsed:    0.2s remaining:    0.0s\n",
      "[Parallel(n_jobs=4)]: Done  13 out of  13 | elapsed:    0.2s finished\n"
     ]
    },
    {
     "name": "stdout",
     "output_type": "stream",
     "text": [
      "Batch nr: 6 of 20\n"
     ]
    },
    {
     "name": "stderr",
     "output_type": "stream",
     "text": [
      "[Parallel(n_jobs=4)]: Using backend ThreadingBackend with 4 concurrent workers.\n"
     ]
    },
    {
     "name": "stdout",
     "output_type": "stream",
     "text": [
      "building tree 1 of 13building tree 2 of 13\n",
      "\n",
      "building tree 3 of 13\n",
      "building tree 4 of 13\n",
      "building tree 5 of 13\n",
      "building tree 6 of 13\n",
      "building tree 7 of 13\n",
      "building tree 8 of 13\n",
      "building tree 9 of 13\n",
      "building tree 10 of 13\n",
      "building tree 11 of 13\n",
      "building tree 12 of 13\n",
      "building tree 13 of 13\n"
     ]
    },
    {
     "name": "stderr",
     "output_type": "stream",
     "text": [
      "[Parallel(n_jobs=4)]: Done  13 out of  13 | elapsed:    1.2s remaining:    0.0s\n",
      "[Parallel(n_jobs=4)]: Done  13 out of  13 | elapsed:    1.2s finished\n",
      "[Parallel(n_jobs=4)]: Using backend ThreadingBackend with 4 concurrent workers.\n"
     ]
    },
    {
     "name": "stdout",
     "output_type": "stream",
     "text": [
      "Batch nr: 7 of 20\n",
      "building tree 1 of 13\n",
      "building tree 2 of 13\n",
      "building tree 3 of 13\n",
      "building tree 4 of 13\n",
      "building tree 5 of 13\n",
      "building tree 6 of 13\n",
      "building tree 7 of 13\n",
      "building tree 8 of 13\n",
      "building tree 9 of 13\n",
      "building tree 10 of 13\n",
      "building tree 11 of 13\n",
      "building tree 12 of 13\n",
      "building tree 13 of 13\n",
      "Batch nr: 8 of 20\n"
     ]
    },
    {
     "name": "stderr",
     "output_type": "stream",
     "text": [
      "[Parallel(n_jobs=4)]: Done  13 out of  13 | elapsed:    0.3s remaining:    0.0s\n",
      "[Parallel(n_jobs=4)]: Done  13 out of  13 | elapsed:    0.3s finished\n",
      "[Parallel(n_jobs=4)]: Using backend ThreadingBackend with 4 concurrent workers.\n"
     ]
    },
    {
     "name": "stdout",
     "output_type": "stream",
     "text": [
      "building tree 1 of 13building tree 2 of 13\n",
      "building tree 3 of 13\n",
      "building tree 4 of 13\n",
      "\n",
      "building tree 5 of 13\n",
      "building tree 6 of 13\n",
      "building tree 7 of 13\n",
      "building tree 8 of 13\n",
      "building tree 9 of 13\n",
      "building tree 10 of 13\n",
      "building tree 11 of 13\n",
      "building tree 12 of 13\n",
      "building tree 13 of 13\n",
      "Batch nr: 9 of 20\n"
     ]
    },
    {
     "name": "stderr",
     "output_type": "stream",
     "text": [
      "[Parallel(n_jobs=4)]: Done  13 out of  13 | elapsed:    0.8s remaining:    0.0s\n",
      "[Parallel(n_jobs=4)]: Done  13 out of  13 | elapsed:    0.8s finished\n",
      "[Parallel(n_jobs=4)]: Using backend ThreadingBackend with 4 concurrent workers.\n"
     ]
    },
    {
     "name": "stdout",
     "output_type": "stream",
     "text": [
      "building tree 1 of 13building tree 2 of 13\n",
      "building tree 3 of 13\n",
      "\n",
      "building tree 4 of 13\n",
      "building tree 5 of 13\n",
      "building tree 6 of 13\n",
      "building tree 7 of 13\n",
      "building tree 8 of 13\n",
      "building tree 9 of 13\n",
      "building tree 10 of 13\n",
      "building tree 11 of 13\n",
      "building tree 12 of 13\n",
      "building tree 13 of 13\n"
     ]
    },
    {
     "name": "stderr",
     "output_type": "stream",
     "text": [
      "[Parallel(n_jobs=4)]: Done  13 out of  13 | elapsed:    0.8s remaining:    0.0s\n",
      "[Parallel(n_jobs=4)]: Done  13 out of  13 | elapsed:    0.8s finished\n"
     ]
    },
    {
     "name": "stdout",
     "output_type": "stream",
     "text": [
      "Batch nr: 10 of 20\n"
     ]
    },
    {
     "name": "stderr",
     "output_type": "stream",
     "text": [
      "[Parallel(n_jobs=4)]: Using backend ThreadingBackend with 4 concurrent workers.\n"
     ]
    },
    {
     "name": "stdout",
     "output_type": "stream",
     "text": [
      "building tree 1 of 13building tree 2 of 13\n",
      "building tree 3 of 13\n",
      "\n",
      "building tree 4 of 13\n",
      "building tree 5 of 13building tree 6 of 13\n",
      "\n",
      "building tree 7 of 13\n",
      "building tree 8 of 13\n",
      "building tree 9 of 13\n",
      "building tree 10 of 13\n",
      "building tree 11 of 13\n",
      "building tree 12 of 13\n",
      "building tree 13 of 13\n"
     ]
    },
    {
     "name": "stderr",
     "output_type": "stream",
     "text": [
      "[Parallel(n_jobs=4)]: Done  13 out of  13 | elapsed:    1.2s remaining:    0.0s\n",
      "[Parallel(n_jobs=4)]: Done  13 out of  13 | elapsed:    1.2s finished\n"
     ]
    },
    {
     "name": "stdout",
     "output_type": "stream",
     "text": [
      "Batch nr: 11 of 20\n"
     ]
    },
    {
     "name": "stderr",
     "output_type": "stream",
     "text": [
      "[Parallel(n_jobs=4)]: Using backend ThreadingBackend with 4 concurrent workers.\n"
     ]
    },
    {
     "name": "stdout",
     "output_type": "stream",
     "text": [
      "building tree 1 of 13building tree 2 of 13\n",
      "building tree 3 of 13\n",
      "\n",
      "building tree 4 of 13\n",
      "building tree 5 of 13\n",
      "building tree 6 of 13\n",
      "building tree 7 of 13\n",
      "building tree 8 of 13\n",
      "building tree 9 of 13\n",
      "building tree 10 of 13\n",
      "building tree 11 of 13\n",
      "building tree 12 of 13\n",
      "building tree 13 of 13\n"
     ]
    },
    {
     "name": "stderr",
     "output_type": "stream",
     "text": [
      "[Parallel(n_jobs=4)]: Done  13 out of  13 | elapsed:    2.2s remaining:    0.0s\n",
      "[Parallel(n_jobs=4)]: Done  13 out of  13 | elapsed:    2.2s finished\n",
      "[Parallel(n_jobs=4)]: Using backend ThreadingBackend with 4 concurrent workers.\n",
      "[Parallel(n_jobs=4)]: Done  13 out of  13 | elapsed:    0.0s remaining:    0.0s\n",
      "[Parallel(n_jobs=4)]: Done  13 out of  13 | elapsed:    0.0s finished\n"
     ]
    },
    {
     "name": "stdout",
     "output_type": "stream",
     "text": [
      "Batch nr: 12 of 20\n",
      "building tree 1 of 13\n",
      "building tree 2 of 13\n",
      "building tree 3 of 13\n",
      "building tree 4 of 13\n",
      "building tree 5 of 13\n",
      "building tree 6 of 13\n",
      "building tree 7 of 13\n",
      "building tree 8 of 13\n",
      "building tree 9 of 13\n",
      "building tree 10 of 13\n",
      "building tree 11 of 13\n",
      "building tree 12 of 13\n",
      "building tree 13 of 13\n",
      "Batch nr: 13 of 20\n"
     ]
    },
    {
     "name": "stderr",
     "output_type": "stream",
     "text": [
      "[Parallel(n_jobs=4)]: Using backend ThreadingBackend with 4 concurrent workers.\n"
     ]
    },
    {
     "name": "stdout",
     "output_type": "stream",
     "text": [
      "building tree 1 of 13building tree 2 of 13\n",
      "\n",
      "building tree 3 of 13\n",
      "building tree 4 of 13\n",
      "building tree 5 of 13\n",
      "building tree 6 of 13\n",
      "building tree 7 of 13\n",
      "building tree 8 of 13\n",
      "building tree 9 of 13\n",
      "building tree 10 of 13\n",
      "building tree 11 of 13\n",
      "building tree 12 of 13\n",
      "building tree 13 of 13\n"
     ]
    },
    {
     "name": "stderr",
     "output_type": "stream",
     "text": [
      "[Parallel(n_jobs=4)]: Done  13 out of  13 | elapsed:    1.0s remaining:    0.0s\n",
      "[Parallel(n_jobs=4)]: Done  13 out of  13 | elapsed:    1.0s finished\n"
     ]
    },
    {
     "name": "stdout",
     "output_type": "stream",
     "text": [
      "Batch nr: 14 of 20\n"
     ]
    },
    {
     "name": "stderr",
     "output_type": "stream",
     "text": [
      "[Parallel(n_jobs=4)]: Using backend ThreadingBackend with 4 concurrent workers.\n"
     ]
    },
    {
     "name": "stdout",
     "output_type": "stream",
     "text": [
      "building tree 1 of 13building tree 2 of 13\n",
      "\n",
      "building tree 3 of 13\n",
      "building tree 4 of 13\n",
      "building tree 5 of 13\n",
      "building tree 6 of 13\n",
      "building tree 7 of 13\n",
      "building tree 8 of 13\n",
      "building tree 9 of 13\n",
      "building tree 10 of 13\n",
      "building tree 11 of 13\n",
      "building tree 12 of 13\n",
      "building tree 13 of 13\n"
     ]
    },
    {
     "name": "stderr",
     "output_type": "stream",
     "text": [
      "[Parallel(n_jobs=4)]: Done  13 out of  13 | elapsed:    0.8s remaining:    0.0s\n",
      "[Parallel(n_jobs=4)]: Done  13 out of  13 | elapsed:    0.8s finished\n"
     ]
    },
    {
     "name": "stdout",
     "output_type": "stream",
     "text": [
      "Batch nr: 15 of 20\n"
     ]
    },
    {
     "name": "stderr",
     "output_type": "stream",
     "text": [
      "[Parallel(n_jobs=4)]: Using backend ThreadingBackend with 4 concurrent workers.\n"
     ]
    },
    {
     "name": "stdout",
     "output_type": "stream",
     "text": [
      "building tree 1 of 13building tree 2 of 13\n",
      "building tree 3 of 13\n",
      "\n",
      "building tree 4 of 13\n",
      "building tree 5 of 13building tree 6 of 13\n",
      "\n",
      "building tree 7 of 13\n",
      "building tree 8 of 13\n",
      "building tree 9 of 13\n",
      "building tree 10 of 13\n",
      "building tree 11 of 13\n",
      "building tree 12 of 13\n",
      "building tree 13 of 13\n"
     ]
    },
    {
     "name": "stderr",
     "output_type": "stream",
     "text": [
      "[Parallel(n_jobs=4)]: Done  13 out of  13 | elapsed:    2.1s remaining:    0.0s\n",
      "[Parallel(n_jobs=4)]: Done  13 out of  13 | elapsed:    2.1s finished\n",
      "[Parallel(n_jobs=4)]: Using backend ThreadingBackend with 4 concurrent workers.\n"
     ]
    },
    {
     "name": "stdout",
     "output_type": "stream",
     "text": [
      "Batch nr: 16 of 20\n",
      "building tree 1 of 13\n",
      "building tree 2 of 13\n",
      "building tree 3 of 13\n",
      "building tree 4 of 13\n",
      "building tree 5 of 13\n",
      "building tree 6 of 13\n",
      "building tree 7 of 13\n",
      "building tree 8 of 13\n",
      "building tree 9 of 13\n",
      "building tree 10 of 13\n",
      "building tree 11 of 13\n",
      "building tree 12 of 13\n",
      "building tree 13 of 13\n"
     ]
    },
    {
     "name": "stderr",
     "output_type": "stream",
     "text": [
      "[Parallel(n_jobs=4)]: Done  13 out of  13 | elapsed:    0.1s remaining:    0.0s\n",
      "[Parallel(n_jobs=4)]: Done  13 out of  13 | elapsed:    0.1s finished\n",
      "[Parallel(n_jobs=4)]: Using backend ThreadingBackend with 4 concurrent workers.\n",
      "[Parallel(n_jobs=4)]: Done  33 tasks      | elapsed:    0.0s\n",
      "[Parallel(n_jobs=4)]: Done 154 tasks      | elapsed:    0.1s\n",
      "[Parallel(n_jobs=4)]: Done 208 out of 208 | elapsed:    0.2s finished\n"
     ]
    },
    {
     "name": "stdout",
     "output_type": "stream",
     "text": [
      "Batch nr: 1 of 20\n"
     ]
    },
    {
     "name": "stderr",
     "output_type": "stream",
     "text": [
      "[Parallel(n_jobs=4)]: Using backend ThreadingBackend with 4 concurrent workers.\n"
     ]
    },
    {
     "name": "stdout",
     "output_type": "stream",
     "text": [
      "building tree 1 of 13building tree 2 of 13\n",
      "building tree 3 of 13\n",
      "\n",
      "building tree 4 of 13\n",
      "building tree 5 of 13\n",
      "building tree 6 of 13\n",
      "building tree 7 of 13\n",
      "building tree 8 of 13\n",
      "building tree 9 of 13\n",
      "building tree 10 of 13\n",
      "building tree 11 of 13\n",
      "building tree 12 of 13\n",
      "building tree 13 of 13\n"
     ]
    },
    {
     "name": "stderr",
     "output_type": "stream",
     "text": [
      "[Parallel(n_jobs=4)]: Done  13 out of  13 | elapsed:    1.4s remaining:    0.0s\n",
      "[Parallel(n_jobs=4)]: Done  13 out of  13 | elapsed:    1.4s finished\n"
     ]
    },
    {
     "name": "stdout",
     "output_type": "stream",
     "text": [
      "Batch nr: 2 of 20\n"
     ]
    },
    {
     "name": "stderr",
     "output_type": "stream",
     "text": [
      "[Parallel(n_jobs=4)]: Using backend ThreadingBackend with 4 concurrent workers.\n"
     ]
    },
    {
     "name": "stdout",
     "output_type": "stream",
     "text": [
      "building tree 1 of 13building tree 2 of 13\n",
      "building tree 3 of 13\n",
      "building tree 4 of 13\n",
      "\n",
      "building tree 5 of 13\n",
      "building tree 6 of 13\n",
      "building tree 7 of 13\n",
      "building tree 8 of 13\n",
      "building tree 9 of 13\n",
      "building tree 10 of 13\n",
      "building tree 11 of 13\n",
      "building tree 12 of 13\n",
      "building tree 13 of 13\n"
     ]
    },
    {
     "name": "stderr",
     "output_type": "stream",
     "text": [
      "[Parallel(n_jobs=4)]: Done  13 out of  13 | elapsed:    1.4s remaining:    0.0s\n",
      "[Parallel(n_jobs=4)]: Done  13 out of  13 | elapsed:    1.4s finished\n",
      "[Parallel(n_jobs=4)]: Using backend ThreadingBackend with 4 concurrent workers.\n",
      "[Parallel(n_jobs=4)]: Done  13 out of  13 | elapsed:    0.0s remaining:    0.0s\n",
      "[Parallel(n_jobs=4)]: Done  13 out of  13 | elapsed:    0.0s finished\n"
     ]
    },
    {
     "name": "stdout",
     "output_type": "stream",
     "text": [
      "Batch nr: 3 of 20\n",
      "building tree 1 of 13\n",
      "building tree 2 of 13\n",
      "building tree 3 of 13\n",
      "building tree 4 of 13\n",
      "building tree 5 of 13\n",
      "building tree 6 of 13\n",
      "building tree 7 of 13\n",
      "building tree 8 of 13\n",
      "building tree 9 of 13\n",
      "building tree 10 of 13\n",
      "building tree 11 of 13\n",
      "building tree 12 of 13\n",
      "building tree 13 of 13\n",
      "Batch nr: 4 of 20\n"
     ]
    },
    {
     "name": "stderr",
     "output_type": "stream",
     "text": [
      "[Parallel(n_jobs=4)]: Using backend ThreadingBackend with 4 concurrent workers.\n"
     ]
    },
    {
     "name": "stdout",
     "output_type": "stream",
     "text": [
      "building tree 1 of 13building tree 2 of 13\n",
      "building tree 3 of 13\n",
      "\n",
      "building tree 4 of 13\n",
      "building tree 5 of 13\n",
      "building tree 6 of 13\n",
      "building tree 7 of 13\n",
      "building tree 8 of 13\n",
      "building tree 9 of 13\n",
      "building tree 10 of 13\n",
      "building tree 11 of 13\n",
      "building tree 12 of 13\n",
      "building tree 13 of 13\n"
     ]
    },
    {
     "name": "stderr",
     "output_type": "stream",
     "text": [
      "[Parallel(n_jobs=4)]: Done  13 out of  13 | elapsed:   11.8s remaining:    0.0s\n",
      "[Parallel(n_jobs=4)]: Done  13 out of  13 | elapsed:   11.8s finished\n",
      "[Parallel(n_jobs=4)]: Using backend ThreadingBackend with 4 concurrent workers.\n"
     ]
    },
    {
     "name": "stdout",
     "output_type": "stream",
     "text": [
      "Batch nr: 5 of 20\n",
      "building tree 1 of 13\n",
      "building tree 2 of 13\n",
      "building tree 3 of 13\n",
      "building tree 4 of 13\n",
      "building tree 5 of 13building tree 6 of 13\n",
      "\n",
      "building tree 7 of 13\n",
      "building tree 8 of 13\n",
      "building tree 9 of 13\n",
      "building tree 10 of 13\n",
      "building tree 11 of 13\n",
      "building tree 12 of 13\n",
      "building tree 13 of 13\n"
     ]
    },
    {
     "name": "stderr",
     "output_type": "stream",
     "text": [
      "[Parallel(n_jobs=4)]: Done  13 out of  13 | elapsed:    0.2s remaining:    0.0s\n",
      "[Parallel(n_jobs=4)]: Done  13 out of  13 | elapsed:    0.2s finished\n"
     ]
    },
    {
     "name": "stdout",
     "output_type": "stream",
     "text": [
      "Batch nr: 6 of 20\n"
     ]
    },
    {
     "name": "stderr",
     "output_type": "stream",
     "text": [
      "[Parallel(n_jobs=4)]: Using backend ThreadingBackend with 4 concurrent workers.\n"
     ]
    },
    {
     "name": "stdout",
     "output_type": "stream",
     "text": [
      "building tree 1 of 13building tree 2 of 13\n",
      "\n",
      "building tree 3 of 13\n",
      "building tree 4 of 13\n",
      "building tree 5 of 13\n",
      "building tree 6 of 13\n",
      "building tree 7 of 13\n",
      "building tree 8 of 13\n",
      "building tree 9 of 13\n",
      "building tree 10 of 13\n",
      "building tree 11 of 13\n",
      "building tree 12 of 13\n",
      "building tree 13 of 13\n"
     ]
    }
   ],
   "source": [
    "# Initialize kfold\n",
    "n_splits = 5\n",
    "kfold = KFold(n_splits=n_splits)\n",
    "kfold.get_n_splits(ids)\n",
    "\n",
    "# Initializes machine learning classes\n",
    "ml_sbp, ml_dbp = Classical_ML(), Classical_ML()\n",
    "\n",
    "\n",
    "all_mae_sbp, all_mae_dbp = [], []\n",
    "for nr_fold, (train_index, test_index) in enumerate(kfold.split(ids)):\n",
    "    print(\"Number Fold: \", [nr_fold+1], \" of \", [n_splits])\n",
    "    \n",
    "    # RandomForestRegression for systolic blood pressure (label=0)\n",
    "    mae_sbp = ml_sbp.rfregression(ids, y, train_index, test_index, path, batch_size=1, label=0, n_jobs=4)\n",
    "    # RandomForestRegression for diastolic blood pressure (label=1)\n",
    "    mae_dbp = ml_dbp.rfregression(ids, y, train_index, test_index, path, batch_size=1, label=1, n_jobs=4)\n",
    "    \n",
    "    all_mae_sbp.append(mae_sbp)\n",
    "    all_mae_dbp.append(mae_dbp)\n",
    "\n",
    "mean_mae_sbp = np.mean(all_mae_sbp)\n",
    "mean_mae_dbp = np.mean(all_mae_dbp)"
   ]
  },
  {
   "cell_type": "markdown",
   "id": "05a97a32",
   "metadata": {},
   "source": [
    "### Results"
   ]
  },
  {
   "cell_type": "code",
   "execution_count": null,
   "id": "65133e13",
   "metadata": {},
   "outputs": [],
   "source": [
    "print(\"Mean MAE of SBP: \", mean_mae_sbp)\n",
    "print(\"Mean MAE of DBP: \", mean_mae_dbp)"
   ]
  }
 ],
 "metadata": {
  "kernelspec": {
   "display_name": "Python 3 (ipykernel)",
   "language": "python",
   "name": "python3"
  },
  "language_info": {
   "codemirror_mode": {
    "name": "ipython",
    "version": 3
   },
   "file_extension": ".py",
   "mimetype": "text/x-python",
   "name": "python",
   "nbconvert_exporter": "python",
   "pygments_lexer": "ipython3",
   "version": "3.9.7"
  }
 },
 "nbformat": 4,
 "nbformat_minor": 5
}
