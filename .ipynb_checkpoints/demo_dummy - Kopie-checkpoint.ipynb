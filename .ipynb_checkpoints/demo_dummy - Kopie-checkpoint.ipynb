{
 "cells": [
  {
   "cell_type": "markdown",
   "id": "f38eadb2",
   "metadata": {},
   "source": [
    "# Demonstration of dummy learning"
   ]
  },
  {
   "cell_type": "markdown",
   "id": "a3a2376f",
   "metadata": {},
   "source": [
    "### Imports"
   ]
  },
  {
   "cell_type": "code",
   "execution_count": 8,
   "id": "d63c3060",
   "metadata": {},
   "outputs": [],
   "source": [
    "import numpy as np\n",
    "import os\n",
    "from sklearn.model_selection import KFold\n",
    "from Classical_ML import Classical_ML"
   ]
  },
  {
   "cell_type": "markdown",
   "id": "41ec0f8c",
   "metadata": {},
   "source": [
    "### Loading subset"
   ]
  },
  {
   "cell_type": "code",
   "execution_count": 2,
   "id": "834e2a79",
   "metadata": {},
   "outputs": [],
   "source": [
    "# path of the preprocessed data\n",
    "path= \"C:/Users/vogel/Desktop/Study/Master BMIT/1.Semester/Programmierprojekt/feat_new/\"       \n",
    "# Loading subject ids   \n",
    "ids_ml = np.array(os.listdir(path+\"ground_truth/ml/\"))\n",
    "ids_nn = np.array(os.listdir(path+\"ground_truth/nn/\"))\n",
    "# Ground truth\n",
    "y_ml = np.array([np.load(path+\"ground_truth/ml/\"+subject, allow_pickle=True) for subject in ids_ml], dtype=object)\n",
    "y_nn = np.array([np.load(path+\"ground_truth/nn/\"+subject, allow_pickle=True) for subject in ids_nn], dtype=object)"
   ]
  },
  {
   "cell_type": "markdown",
   "id": "266edf5a",
   "metadata": {},
   "source": [
    "### Dummy classification of classical machine learning data"
   ]
  },
  {
   "cell_type": "code",
   "execution_count": 9,
   "id": "0542dfe7",
   "metadata": {},
   "outputs": [
    {
     "name": "stdout",
     "output_type": "stream",
     "text": [
      "Number Fold:  [1]  of  [5]\n"
     ]
    },
    {
     "ename": "TypeError",
     "evalue": "'NoneType' object is not subscriptable",
     "output_type": "error",
     "traceback": [
      "\u001b[1;31m---------------------------------------------------------------------------\u001b[0m",
      "\u001b[1;31mTypeError\u001b[0m                                 Traceback (most recent call last)",
      "Cell \u001b[1;32mIn [9], line 14\u001b[0m\n\u001b[0;32m     10\u001b[0m \u001b[38;5;28;01mfor\u001b[39;00m nr_fold, (train_index, test_index) \u001b[38;5;129;01min\u001b[39;00m \u001b[38;5;28menumerate\u001b[39m(kfold\u001b[38;5;241m.\u001b[39msplit(ids_ml)):\n\u001b[0;32m     11\u001b[0m     \u001b[38;5;28mprint\u001b[39m(\u001b[38;5;124m\"\u001b[39m\u001b[38;5;124mNumber Fold: \u001b[39m\u001b[38;5;124m\"\u001b[39m, [nr_fold\u001b[38;5;241m+\u001b[39m\u001b[38;5;241m1\u001b[39m], \u001b[38;5;124m\"\u001b[39m\u001b[38;5;124m of \u001b[39m\u001b[38;5;124m\"\u001b[39m, [n_splits])\n\u001b[1;32m---> 14\u001b[0m     mae_sbp, mae_dbp \u001b[38;5;241m=\u001b[39m \u001b[43mml\u001b[49m\u001b[38;5;241;43m.\u001b[39;49m\u001b[43mdummy\u001b[49m\u001b[43m(\u001b[49m\u001b[43my_ml\u001b[49m\u001b[43m,\u001b[49m\u001b[43m \u001b[49m\u001b[43mtrain_index\u001b[49m\u001b[43m,\u001b[49m\u001b[43m \u001b[49m\u001b[43mtest_index\u001b[49m\u001b[43m)\u001b[49m\n\u001b[0;32m     16\u001b[0m     all_mae_sbp\u001b[38;5;241m.\u001b[39mappend(mae_sbp)\n\u001b[0;32m     17\u001b[0m     all_mae_dbp\u001b[38;5;241m.\u001b[39mappend(mae_dbp)\n",
      "File \u001b[1;32m~\\Desktop\\Study\\Master BMIT\\1.Semester\\Programmierprojekt\\Skript\\Classical_ML.py:60\u001b[0m, in \u001b[0;36mClassical_ML.dummy\u001b[1;34m(self, y, train_index, test_index)\u001b[0m\n\u001b[0;32m     51\u001b[0m \u001b[38;5;28;01mdef\u001b[39;00m \u001b[38;5;21mdummy\u001b[39m(\u001b[38;5;28mself\u001b[39m, y, train_index, test_index):\n\u001b[0;32m     52\u001b[0m     \u001b[38;5;66;03m##\u001b[39;00m\n\u001b[0;32m     53\u001b[0m     \u001b[38;5;66;03m# @brief This method realizes the \"Dummy\" training of Slapnicar BP Estimation.\u001b[39;00m\n\u001b[1;32m   (...)\u001b[0m\n\u001b[0;32m     57\u001b[0m     \u001b[38;5;66;03m# @return               Mean absolute error of systolic and diastolic blood pressure. \u001b[39;00m\n\u001b[0;32m     58\u001b[0m     \u001b[38;5;66;03m##\u001b[39;00m\n\u001b[0;32m     59\u001b[0m     y_train, y_test \u001b[38;5;241m=\u001b[39m y[train_index], y[test_index]\n\u001b[1;32m---> 60\u001b[0m     y_train \u001b[38;5;241m=\u001b[39m \u001b[38;5;28;43mself\u001b[39;49m\u001b[38;5;241;43m.\u001b[39;49m\u001b[43m__spec_flatten\u001b[49m\u001b[43m(\u001b[49m\u001b[43my_in\u001b[49m\u001b[38;5;241;43m=\u001b[39;49m\u001b[43my_train\u001b[49m\u001b[43m,\u001b[49m\u001b[43m \u001b[49m\u001b[43monly_y\u001b[49m\u001b[38;5;241;43m=\u001b[39;49m\u001b[38;5;28;43;01mTrue\u001b[39;49;00m\u001b[43m)\u001b[49m\n\u001b[0;32m     61\u001b[0m     y_test \u001b[38;5;241m=\u001b[39m \u001b[38;5;28mself\u001b[39m\u001b[38;5;241m.\u001b[39m__spec_flatten(y_in\u001b[38;5;241m=\u001b[39my_test, only_y\u001b[38;5;241m=\u001b[39m\u001b[38;5;28;01mTrue\u001b[39;00m)\n\u001b[0;32m     63\u001b[0m     y_pred_sbp \u001b[38;5;241m=\u001b[39m np\u001b[38;5;241m.\u001b[39mfull(\u001b[38;5;28mlen\u001b[39m(y_test), np\u001b[38;5;241m.\u001b[39mmean(y_train[:,\u001b[38;5;241m0\u001b[39m])) \n",
      "File \u001b[1;32m~\\Desktop\\Study\\Master BMIT\\1.Semester\\Programmierprojekt\\Skript\\Classical_ML.py:17\u001b[0m, in \u001b[0;36mClassical_ML.__spec_flatten\u001b[1;34m(x_in, y_in, only_y)\u001b[0m\n\u001b[0;32m      7\u001b[0m \u001b[38;5;129m@staticmethod\u001b[39m\n\u001b[0;32m      8\u001b[0m \u001b[38;5;28;01mdef\u001b[39;00m \u001b[38;5;21m__spec_flatten\u001b[39m(x_in\u001b[38;5;241m=\u001b[39m\u001b[38;5;28;01mNone\u001b[39;00m, y_in\u001b[38;5;241m=\u001b[39m\u001b[38;5;28;01mNone\u001b[39;00m, only_y\u001b[38;5;241m=\u001b[39m\u001b[38;5;28;01mFalse\u001b[39;00m):  \n\u001b[0;32m      9\u001b[0m     \u001b[38;5;66;03m##\u001b[39;00m\n\u001b[1;32m   (...)\u001b[0m\n\u001b[0;32m     14\u001b[0m     \u001b[38;5;66;03m# @return               Flattened data.\u001b[39;00m\n\u001b[0;32m     15\u001b[0m     \u001b[38;5;66;03m##\u001b[39;00m\n\u001b[0;32m     16\u001b[0m     x_out, y_out \u001b[38;5;241m=\u001b[39m [], []\n\u001b[1;32m---> 17\u001b[0m     \u001b[38;5;28mprint\u001b[39m(np\u001b[38;5;241m.\u001b[39mshape(\u001b[43mx_in\u001b[49m\u001b[43m[\u001b[49m\u001b[38;5;241;43m0\u001b[39;49m\u001b[43m]\u001b[49m))\n\u001b[0;32m     18\u001b[0m     \u001b[38;5;28mprint\u001b[39m(np\u001b[38;5;241m.\u001b[39mshape(y_in[\u001b[38;5;241m0\u001b[39m]))\n\u001b[0;32m     19\u001b[0m     \u001b[38;5;28;01mfor\u001b[39;00m sub \u001b[38;5;129;01min\u001b[39;00m \u001b[38;5;28mrange\u001b[39m(\u001b[38;5;241m0\u001b[39m, \u001b[38;5;28mlen\u001b[39m(y_in)):\n",
      "\u001b[1;31mTypeError\u001b[0m: 'NoneType' object is not subscriptable"
     ]
    }
   ],
   "source": [
    "# Initialize kfold\n",
    "n_splits = 5\n",
    "kfold = KFold(n_splits=n_splits)\n",
    "kfold.get_n_splits(ids_ml)\n",
    "\n",
    "# Initializes machine learning classes\n",
    "ml = Classical_ML()\n",
    "\n",
    "all_mae_sbp, all_mae_dbp = [], []\n",
    "for nr_fold, (train_index, test_index) in enumerate(kfold.split(ids_ml)):\n",
    "    print(\"Number Fold: \", [nr_fold+1], \" of \", [n_splits])\n",
    "    \n",
    "    \n",
    "    mae_sbp, mae_dbp = ml.dummy(y_ml, train_index, test_index)\n",
    "    \n",
    "    all_mae_sbp.append(mae_sbp)\n",
    "    all_mae_dbp.append(mae_dbp)\n",
    "\n",
    "mean_mae_sbp = np.mean(all_mae_sbp)\n",
    "mean_mae_dbp = np.mean(all_mae_dbp)"
   ]
  },
  {
   "cell_type": "markdown",
   "id": "e9872ded",
   "metadata": {},
   "source": [
    "### Results"
   ]
  },
  {
   "cell_type": "code",
   "execution_count": null,
   "id": "65133e13",
   "metadata": {},
   "outputs": [],
   "source": [
    "print(\"Mean MAE of SBP: \", mean_mae_sbp)\n",
    "print(\"Mean MAE of DBP: \", mean_mae_dbp)"
   ]
  }
 ],
 "metadata": {
  "kernelspec": {
   "display_name": "Python 3 (ipykernel)",
   "language": "python",
   "name": "python3"
  },
  "language_info": {
   "codemirror_mode": {
    "name": "ipython",
    "version": 3
   },
   "file_extension": ".py",
   "mimetype": "text/x-python",
   "name": "python",
   "nbconvert_exporter": "python",
   "pygments_lexer": "ipython3",
   "version": "3.9.7"
  }
 },
 "nbformat": 4,
 "nbformat_minor": 5
}
