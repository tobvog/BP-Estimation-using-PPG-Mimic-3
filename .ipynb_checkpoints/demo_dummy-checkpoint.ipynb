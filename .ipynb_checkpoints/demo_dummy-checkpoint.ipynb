{
 "cells": [
  {
   "cell_type": "markdown",
   "id": "f38eadb2",
   "metadata": {},
   "source": [
    "# Demonstration of dummy learning"
   ]
  },
  {
   "cell_type": "markdown",
   "id": "a3a2376f",
   "metadata": {},
   "source": [
    "### Imports"
   ]
  },
  {
   "cell_type": "code",
   "execution_count": 1,
   "id": "d63c3060",
   "metadata": {},
   "outputs": [],
   "source": [
    "import numpy as np\n",
    "import os\n",
    "from sklearn.model_selection import KFold\n",
    "from Classical_ML import Classical_ML"
   ]
  },
  {
   "cell_type": "markdown",
   "id": "41ec0f8c",
   "metadata": {},
   "source": [
    "### Loading subset"
   ]
  },
  {
   "cell_type": "code",
   "execution_count": 2,
   "id": "834e2a79",
   "metadata": {},
   "outputs": [],
   "source": [
    "# path of the preprocessed data\n",
    "path= \"C:/Users/vogel/Desktop/Study/Master BMIT/1.Semester/Programmierprojekt/feat_new/\"       \n",
    "# Loading subject ids   \n",
    "ids_ml = np.array(os.listdir(path+\"ground_truth/ml/\"))\n",
    "ids_nn = np.array(os.listdir(path+\"ground_truth/nn/\"))\n",
    "# Ground truth\n",
    "y_ml = np.array([np.load(path+\"ground_truth/ml/\"+subject, allow_pickle=True) for subject in ids_ml], dtype=object)\n",
    "y_nn = np.array([np.load(path+\"ground_truth/nn/\"+subject, allow_pickle=True) for subject in ids_nn], dtype=object)"
   ]
  },
  {
   "cell_type": "markdown",
   "id": "266edf5a",
   "metadata": {},
   "source": [
    "### Dummy classification of classical machine learning data"
   ]
  },
  {
   "cell_type": "code",
   "execution_count": 3,
   "id": "0542dfe7",
   "metadata": {},
   "outputs": [
    {
     "name": "stdout",
     "output_type": "stream",
     "text": [
      "Number Fold:  [1]  of  [5]\n",
      "Number Fold:  [2]  of  [5]\n",
      "Number Fold:  [3]  of  [5]\n",
      "Number Fold:  [4]  of  [5]\n",
      "Number Fold:  [5]  of  [5]\n"
     ]
    }
   ],
   "source": [
    "# Initialize kfold\n",
    "n_splits = 5\n",
    "kfold = KFold(n_splits=n_splits)\n",
    "kfold.get_n_splits(ids_ml)\n",
    "\n",
    "# Initializes machine learning classes\n",
    "ml = Classical_ML()\n",
    "\n",
    "all_mae_sbp, all_mae_dbp = [], []\n",
    "for nr_fold, (train_index, test_index) in enumerate(kfold.split(ids_ml)):\n",
    "    print(\"Number Fold: \", [nr_fold+1], \" of \", [n_splits])\n",
    "    \n",
    "    \n",
    "    mae_sbp, mae_dbp = ml.dummy(y_ml, train_index, test_index)\n",
    "    \n",
    "    all_mae_sbp.append(mae_sbp)\n",
    "    all_mae_dbp.append(mae_dbp)\n",
    "\n",
    "mean_mae_sbp = np.mean(all_mae_sbp)\n",
    "mean_mae_dbp = np.mean(all_mae_dbp)"
   ]
  },
  {
   "cell_type": "markdown",
   "id": "e9872ded",
   "metadata": {},
   "source": [
    "### Results of machine learning data"
   ]
  },
  {
   "cell_type": "code",
   "execution_count": 4,
   "id": "65133e13",
   "metadata": {},
   "outputs": [
    {
     "name": "stdout",
     "output_type": "stream",
     "text": [
      "Mean MAE of SBP:  18.35110158166563\n",
      "Mean MAE of DBP:  10.737410276359745\n"
     ]
    }
   ],
   "source": [
    "print(\"Mean MAE of SBP: \", mean_mae_sbp)\n",
    "print(\"Mean MAE of DBP: \", mean_mae_dbp)"
   ]
  },
  {
   "cell_type": "markdown",
   "id": "73872d74",
   "metadata": {},
   "source": [
    "### Dummy classification of neural network data"
   ]
  },
  {
   "cell_type": "code",
   "execution_count": 6,
   "id": "263a4758",
   "metadata": {},
   "outputs": [
    {
     "name": "stdout",
     "output_type": "stream",
     "text": [
      "Number Fold:  [1]  of  [5]\n",
      "Number Fold:  [2]  of  [5]\n",
      "Number Fold:  [3]  of  [5]\n",
      "Number Fold:  [4]  of  [5]\n",
      "Number Fold:  [5]  of  [5]\n"
     ]
    }
   ],
   "source": [
    "# Initialize kfold\n",
    "n_splits = 5\n",
    "kfold = KFold(n_splits=n_splits)\n",
    "kfold.get_n_splits(ids_nn)\n",
    "\n",
    "# Initializes machine learning classes\n",
    "ml = Classical_ML()\n",
    "\n",
    "all_mae_sbp, all_mae_dbp = [], []\n",
    "for nr_fold, (train_index, test_index) in enumerate(kfold.split(ids_nn)):\n",
    "    print(\"Number Fold: \", [nr_fold+1], \" of \", [n_splits])\n",
    "    \n",
    "    \n",
    "    mae_sbp, mae_dbp = ml.dummy(y_nn, train_index, test_index)\n",
    "    \n",
    "    all_mae_sbp.append(mae_sbp)\n",
    "    all_mae_dbp.append(mae_dbp)\n",
    "\n",
    "mean_mae_sbp = np.mean(all_mae_sbp)\n",
    "mean_mae_dbp = np.mean(all_mae_dbp)"
   ]
  },
  {
   "cell_type": "markdown",
   "id": "771ea826",
   "metadata": {},
   "source": [
    "### Results of neural network data"
   ]
  },
  {
   "cell_type": "code",
   "execution_count": 7,
   "id": "6c8dcba9",
   "metadata": {},
   "outputs": [
    {
     "name": "stdout",
     "output_type": "stream",
     "text": [
      "Mean MAE of SBP:  18.97863378836461\n",
      "Mean MAE of DBP:  10.278842650109219\n"
     ]
    }
   ],
   "source": [
    "print(\"Mean MAE of SBP: \", mean_mae_sbp)\n",
    "print(\"Mean MAE of DBP: \", mean_mae_dbp)"
   ]
  }
 ],
 "metadata": {
  "kernelspec": {
   "display_name": "Python 3 (ipykernel)",
   "language": "python",
   "name": "python3"
  },
  "language_info": {
   "codemirror_mode": {
    "name": "ipython",
    "version": 3
   },
   "file_extension": ".py",
   "mimetype": "text/x-python",
   "name": "python",
   "nbconvert_exporter": "python",
   "pygments_lexer": "ipython3",
   "version": "3.9.7"
  }
 },
 "nbformat": 4,
 "nbformat_minor": 5
}
